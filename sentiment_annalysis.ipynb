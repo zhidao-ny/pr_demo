{
 "cells": [
  {
   "cell_type": "code",
   "execution_count": 9,
   "metadata": {},
   "outputs": [
    {
     "name": "stdout",
     "output_type": "stream",
     "text": [
      "Requirement already satisfied: vaderSentiment in /anaconda3/lib/python3.5/site-packages (3.2.1)\n",
      "\u001b[31mopen3d 0.4.0.0 has requirement ipywidgets>=7.4.2, but you'll have ipywidgets 5.1.5 which is incompatible.\u001b[0m\n",
      "\u001b[31mopen3d 0.4.0.0 has requirement notebook>=5.7.0, but you'll have notebook 5.6.0 which is incompatible.\u001b[0m\n",
      "\u001b[31mopen3d 0.4.0.0 has requirement widgetsnbextension>=3.4.2, but you'll have widgetsnbextension 1.2.3 which is incompatible.\u001b[0m\n",
      "\u001b[33mYou are using pip version 10.0.1, however version 19.0.3 is available.\n",
      "You should consider upgrading via the 'pip install --upgrade pip' command.\u001b[0m\n"
     ]
    }
   ],
   "source": [
    "!pip install vaderSentiment"
   ]
  },
  {
   "cell_type": "code",
   "execution_count": 28,
   "metadata": {},
   "outputs": [
    {
     "name": "stdout",
     "output_type": "stream",
     "text": [
      "\n",
      "The following command must be run outside of the IPython shell:\n",
      "\n",
      "    $ pip install --upgrade vaderSentiment\n",
      "\n",
      "The Python package manager (pip) can only be used from outside of IPython.\n",
      "Please reissue the `pip` command in a separate terminal or command prompt.\n",
      "\n",
      "See the Python documentation for more information on how to install packages:\n",
      "\n",
      "    https://docs.python.org/3/installing/\n"
     ]
    }
   ],
   "source": [
    "pip install --upgrade vaderSentiment"
   ]
  },
  {
   "cell_type": "code",
   "execution_count": 1,
   "metadata": {},
   "outputs": [],
   "source": [
    "from vaderSentiment.vaderSentiment import SentimentIntensityAnalyzer\n",
    "import sqlite3"
   ]
  },
  {
   "cell_type": "code",
   "execution_count": 2,
   "metadata": {},
   "outputs": [],
   "source": [
    "analyzer = SentimentIntensityAnalyzer().polarity_scores"
   ]
  },
  {
   "cell_type": "code",
   "execution_count": 58,
   "metadata": {},
   "outputs": [],
   "source": [
    "def sentiment(topic,db,table,score_func):\n",
    "    connection = sqlite3.connect(db)\n",
    "    cursor = connection.cursor()\n",
    "    cursor.execute(\"SELECT * FROM {table};\".format(table=\"tweets\"))\n",
    "    results = cursor.fetchall()\n",
    "    i = 0\n",
    "    neg = 0\n",
    "    compound = 0\n",
    "    pos = 0\n",
    "    neu = 0\n",
    "    for r in results:\n",
    "        if topic in r[0]:\n",
    "            # print(r[0],score_func(r[0]))\n",
    "            i += 1\n",
    "            neg += score_func(r[0])[\"neg\"]\n",
    "            compound += score_func(r[0])[\"compound\"]\n",
    "            pos += score_func(r[0])[\"pos\"]\n",
    "            neu += score_func(r[0])[\"neu\"]\n",
    "    if i > 0:\n",
    "        print(\"neg:      %.2f\" % (neg/i))\n",
    "        print(\"compound: %.2f\" % (compound/i))\n",
    "        print(\"pos:      %.2f\" % (pos/i))\n",
    "        print(\"neu:      %.2f\" % (neu/i))\n",
    "    else:\n",
    "        print(\"no record with keyword:\", topic)\n",
    "    #print(i)\n",
    "    cursor.close()\n",
    "    connection.close()"
   ]
  },
  {
   "cell_type": "code",
   "execution_count": 59,
   "metadata": {
    "scrolled": false
   },
   "outputs": [
    {
     "name": "stdout",
     "output_type": "stream",
     "text": [
      "neg:      0.02\n",
      "compound: 0.10\n",
      "pos:      0.08\n",
      "neu:      0.89\n"
     ]
    }
   ],
   "source": [
    "sentiment('program',\"twitter.db\",\"tweets\",analyzer)"
   ]
  },
  {
   "cell_type": "code",
   "execution_count": null,
   "metadata": {},
   "outputs": [],
   "source": [
    "# industry?\n",
    "# job description: comp, job, salary"
   ]
  },
  {
   "cell_type": "code",
   "execution_count": null,
   "metadata": {},
   "outputs": [],
   "source": [
    "# keyword:\n",
    "# python, java, C++"
   ]
  },
  {
   "cell_type": "code",
   "execution_count": 60,
   "metadata": {},
   "outputs": [
    {
     "name": "stdout",
     "output_type": "stream",
     "text": [
      "\u001b[34mdata\u001b[m\u001b[m/                      twitter\r\n",
      "sentiment_annalysis.ipynb  twitter.db\r\n"
     ]
    }
   ],
   "source": [
    "ls"
   ]
  },
  {
   "cell_type": "code",
   "execution_count": 61,
   "metadata": {},
   "outputs": [
    {
     "name": "stdout",
     "output_type": "stream",
     "text": [
      "/Users/yimengguo\n"
     ]
    }
   ],
   "source": [
    "cd .."
   ]
  },
  {
   "cell_type": "code",
   "execution_count": 62,
   "metadata": {},
   "outputs": [
    {
     "data": {
      "text/plain": [
       "'/Users/yimengguo'"
      ]
     },
     "execution_count": 62,
     "metadata": {},
     "output_type": "execute_result"
    }
   ],
   "source": [
    "pwd"
   ]
  },
  {
   "cell_type": "code",
   "execution_count": null,
   "metadata": {},
   "outputs": [],
   "source": []
  }
 ],
 "metadata": {
  "kernelspec": {
   "display_name": "Python 3",
   "language": "python",
   "name": "python3"
  },
  "language_info": {
   "codemirror_mode": {
    "name": "ipython",
    "version": 3
   },
   "file_extension": ".py",
   "mimetype": "text/x-python",
   "name": "python",
   "nbconvert_exporter": "python",
   "pygments_lexer": "ipython3",
   "version": "3.5.5"
  }
 },
 "nbformat": 4,
 "nbformat_minor": 2
}
