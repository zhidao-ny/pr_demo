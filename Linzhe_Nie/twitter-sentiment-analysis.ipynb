{
 "cells": [
  {
   "cell_type": "markdown",
   "metadata": {
    "_uuid": "92b885dd147dac19bd0a33db3cd0da100bd5bc23"
   },
   "source": [
    "# Twitter Sentiment Analysis"
   ]
  },
  {
   "cell_type": "code",
   "execution_count": 1,
   "metadata": {
    "_uuid": "303e72966af732ddef0bd8108a321095314e44af"
   },
   "outputs": [
    {
     "name": "stderr",
     "output_type": "stream",
     "text": [
      "Using TensorFlow backend.\n"
     ]
    }
   ],
   "source": [
    "# DataFrame\n",
    "import pandas as pd\n",
    "\n",
    "# Matplot\n",
    "import matplotlib.pyplot as plt\n",
    "%matplotlib inline\n",
    "\n",
    "# Scikit-learn\n",
    "from sklearn.model_selection import train_test_split\n",
    "from sklearn.preprocessing import LabelEncoder\n",
    "from sklearn.metrics import confusion_matrix, classification_report, accuracy_score\n",
    "from sklearn.manifold import TSNE\n",
    "from sklearn.feature_extraction.text import TfidfVectorizer\n",
    "\n",
    "# Keras\n",
    "from keras.preprocessing.text import Tokenizer\n",
    "from keras.preprocessing.sequence import pad_sequences\n",
    "from keras.models import Sequential\n",
    "from keras.layers import Activation, Dense, Dropout, Embedding, Flatten, Conv1D, MaxPooling1D, LSTM\n",
    "from keras import utils\n",
    "from keras.callbacks import ReduceLROnPlateau, EarlyStopping\n",
    "\n",
    "# nltk\n",
    "import nltk\n",
    "from nltk.corpus import stopwords\n",
    "from  nltk.stem import SnowballStemmer\n",
    "\n",
    "# Word2vec\n",
    "import gensim\n",
    "\n",
    "# Utility\n",
    "import re\n",
    "import numpy as np\n",
    "import os\n",
    "from collections import Counter\n",
    "import logging\n",
    "import time\n",
    "import pickle\n",
    "import itertools\n",
    "\n",
    "# Set log\n",
    "logging.basicConfig(format='%(asctime)s : %(levelname)s : %(message)s', level=logging.INFO)"
   ]
  },
  {
   "cell_type": "code",
   "execution_count": 2,
   "metadata": {
    "_uuid": "35e1a89dead5fd160e4c9a024a21d2e569fc89ff"
   },
   "outputs": [
    {
     "name": "stdout",
     "output_type": "stream",
     "text": [
      "[nltk_data] Downloading package stopwords to /home/zd/nltk_data...\n",
      "[nltk_data]   Package stopwords is already up-to-date!\n"
     ]
    },
    {
     "data": {
      "text/plain": [
       "True"
      ]
     },
     "execution_count": 2,
     "metadata": {},
     "output_type": "execute_result"
    }
   ],
   "source": [
    "nltk.download('stopwords')"
   ]
  },
  {
   "cell_type": "markdown",
   "metadata": {
    "_uuid": "e8b01a07df001e4abcc745900336c4db06e455f3"
   },
   "source": [
    "### Settings"
   ]
  },
  {
   "cell_type": "code",
   "execution_count": 3,
   "metadata": {
    "_uuid": "180f0dd2a95419e4602b5c0229822b0111c826f6"
   },
   "outputs": [],
   "source": [
    "# DATASET\n",
    "DATASET_COLUMNS = [\"target\", \"ids\", \"date\", \"flag\", \"user\", \"text\"]\n",
    "#ISO-8859-1\n",
    "DATASET_ENCODING = \"ISO-8859-1\"\n",
    "TRAIN_SIZE = 0.8\n",
    "\n",
    "# TEXT CLENAING\n",
    "TEXT_CLEANING_RE = \"@\\S+|https?:\\S+|http?:\\S|[^A-Za-z0-9]+\"\n",
    "\n",
    "# WORD2VEC \n",
    "W2V_SIZE = 300\n",
    "W2V_WINDOW = 7\n",
    "W2V_EPOCH = 32\n",
    "W2V_MIN_COUNT = 10\n",
    "\n",
    "# KERAS\n",
    "SEQUENCE_LENGTH = 300\n",
    "EPOCHS = 8\n",
    "BATCH_SIZE = 1024\n",
    "\n",
    "# SENTIMENT\n",
    "POSITIVE = \"POSITIVE\"\n",
    "NEGATIVE = \"NEGATIVE\"\n",
    "NEUTRAL = \"NEUTRAL\"\n",
    "SENTIMENT_THRESHOLDS = (0.4, 0.7)\n",
    "\n",
    "# EXPORT\n",
    "KERAS_MODEL = \"model.h5\"\n",
    "WORD2VEC_MODEL = \"model.w2v\"\n",
    "TOKENIZER_MODEL = \"tokenizer.pkl\"\n",
    "ENCODER_MODEL = \"encoder.pkl\""
   ]
  },
  {
   "cell_type": "markdown",
   "metadata": {
    "_uuid": "1c3beecc618be68480b3d4f0de08d9d863da1dc1"
   },
   "source": [
    "### Read Dataset"
   ]
  },
  {
   "cell_type": "markdown",
   "metadata": {
    "_uuid": "563b3c44f1092dba0b853747b098e00509098cca"
   },
   "source": [
    "### Dataset details\n",
    "* **target**: the polarity of the tweet (0 = negative, 2 = neutral, 4 = positive)\n",
    "* **ids**: The id of the tweet ( 2087)\n",
    "* **date**: the date of the tweet (Sat May 16 23:58:44 UTC 2009)\n",
    "* **flag**: The query (lyx). If there is no query, then this value is NO_QUERY.\n",
    "* **user**: the user that tweeted (robotickilldozr)\n",
    "* **text**: the text of the tweet (Lyx is cool)"
   ]
  },
  {
   "cell_type": "code",
   "execution_count": 4,
   "metadata": {
    "_uuid": "bba8f91cd70de4f5ea0fb0870ae2029b6e3dcc24"
   },
   "outputs": [
    {
     "name": "stdout",
     "output_type": "stream",
     "text": [
      "('Open file:', 'input/training.1600000.processed.noemoticon.csv')\n"
     ]
    }
   ],
   "source": [
    "dataset_filename = os.listdir(\"input\")[0]\n",
    "dataset_path = os.path.join(\"input\",dataset_filename)\n",
    "print(\"Open file:\", dataset_path)\n",
    "df = pd.read_csv(dataset_path, encoding =DATASET_ENCODING , names=DATASET_COLUMNS)"
   ]
  },
  {
   "cell_type": "code",
   "execution_count": 5,
   "metadata": {
    "_uuid": "936d499c00c4f1648bc16ca9d283c3b39be7fb10"
   },
   "outputs": [
    {
     "name": "stdout",
     "output_type": "stream",
     "text": [
      "('Dataset size:', 1600000)\n"
     ]
    }
   ],
   "source": [
    "print(\"Dataset size:\", len(df))"
   ]
  },
  {
   "cell_type": "code",
   "execution_count": 6,
   "metadata": {
    "_uuid": "7486ed895b813c5246f97b31b6162b0f65ff763b"
   },
   "outputs": [
    {
     "data": {
      "text/html": [
       "<div>\n",
       "<style scoped>\n",
       "    .dataframe tbody tr th:only-of-type {\n",
       "        vertical-align: middle;\n",
       "    }\n",
       "\n",
       "    .dataframe tbody tr th {\n",
       "        vertical-align: top;\n",
       "    }\n",
       "\n",
       "    .dataframe thead th {\n",
       "        text-align: right;\n",
       "    }\n",
       "</style>\n",
       "<table border=\"1\" class=\"dataframe\">\n",
       "  <thead>\n",
       "    <tr style=\"text-align: right;\">\n",
       "      <th></th>\n",
       "      <th>target</th>\n",
       "      <th>ids</th>\n",
       "      <th>date</th>\n",
       "      <th>flag</th>\n",
       "      <th>user</th>\n",
       "      <th>text</th>\n",
       "    </tr>\n",
       "  </thead>\n",
       "  <tbody>\n",
       "    <tr>\n",
       "      <th>0</th>\n",
       "      <td>0</td>\n",
       "      <td>1467810369</td>\n",
       "      <td>Mon Apr 06 22:19:45 PDT 2009</td>\n",
       "      <td>NO_QUERY</td>\n",
       "      <td>_TheSpecialOne_</td>\n",
       "      <td>@switchfoot http://twitpic.com/2y1zl - Awww, t...</td>\n",
       "    </tr>\n",
       "    <tr>\n",
       "      <th>1</th>\n",
       "      <td>0</td>\n",
       "      <td>1467810672</td>\n",
       "      <td>Mon Apr 06 22:19:49 PDT 2009</td>\n",
       "      <td>NO_QUERY</td>\n",
       "      <td>scotthamilton</td>\n",
       "      <td>is upset that he can't update his Facebook by ...</td>\n",
       "    </tr>\n",
       "    <tr>\n",
       "      <th>2</th>\n",
       "      <td>0</td>\n",
       "      <td>1467810917</td>\n",
       "      <td>Mon Apr 06 22:19:53 PDT 2009</td>\n",
       "      <td>NO_QUERY</td>\n",
       "      <td>mattycus</td>\n",
       "      <td>@Kenichan I dived many times for the ball. Man...</td>\n",
       "    </tr>\n",
       "    <tr>\n",
       "      <th>3</th>\n",
       "      <td>0</td>\n",
       "      <td>1467811184</td>\n",
       "      <td>Mon Apr 06 22:19:57 PDT 2009</td>\n",
       "      <td>NO_QUERY</td>\n",
       "      <td>ElleCTF</td>\n",
       "      <td>my whole body feels itchy and like its on fire</td>\n",
       "    </tr>\n",
       "    <tr>\n",
       "      <th>4</th>\n",
       "      <td>0</td>\n",
       "      <td>1467811193</td>\n",
       "      <td>Mon Apr 06 22:19:57 PDT 2009</td>\n",
       "      <td>NO_QUERY</td>\n",
       "      <td>Karoli</td>\n",
       "      <td>@nationwideclass no, it's not behaving at all....</td>\n",
       "    </tr>\n",
       "  </tbody>\n",
       "</table>\n",
       "</div>"
      ],
      "text/plain": [
       "   target         ids                          date      flag  \\\n",
       "0       0  1467810369  Mon Apr 06 22:19:45 PDT 2009  NO_QUERY   \n",
       "1       0  1467810672  Mon Apr 06 22:19:49 PDT 2009  NO_QUERY   \n",
       "2       0  1467810917  Mon Apr 06 22:19:53 PDT 2009  NO_QUERY   \n",
       "3       0  1467811184  Mon Apr 06 22:19:57 PDT 2009  NO_QUERY   \n",
       "4       0  1467811193  Mon Apr 06 22:19:57 PDT 2009  NO_QUERY   \n",
       "\n",
       "              user                                               text  \n",
       "0  _TheSpecialOne_  @switchfoot http://twitpic.com/2y1zl - Awww, t...  \n",
       "1    scotthamilton  is upset that he can't update his Facebook by ...  \n",
       "2         mattycus  @Kenichan I dived many times for the ball. Man...  \n",
       "3          ElleCTF    my whole body feels itchy and like its on fire   \n",
       "4           Karoli  @nationwideclass no, it's not behaving at all....  "
      ]
     },
     "execution_count": 6,
     "metadata": {},
     "output_type": "execute_result"
    }
   ],
   "source": [
    "df.head(5)"
   ]
  },
  {
   "cell_type": "code",
   "execution_count": 7,
   "metadata": {},
   "outputs": [
    {
     "data": {
      "text/plain": [
       "array([u'NO_QUERY'], dtype=object)"
      ]
     },
     "execution_count": 7,
     "metadata": {},
     "output_type": "execute_result"
    }
   ],
   "source": [
    "df.flag.unique()"
   ]
  },
  {
   "cell_type": "markdown",
   "metadata": {
    "_uuid": "3f9a7bb129e184967b13261fb5d253af451c75c5"
   },
   "source": [
    "### Map target label to String\n",
    "* **0** -> **NEGATIVE**\n",
    "* **2** -> **NEUTRAL**\n",
    "* **4** -> **POSITIVE**"
   ]
  },
  {
   "cell_type": "code",
   "execution_count": 8,
   "metadata": {
    "_uuid": "14074b59106cb9550440839e48b832223fc9502f"
   },
   "outputs": [],
   "source": [
    "decode_map = {0: \"NEGATIVE\", 2: \"NEUTRAL\", 4: \"POSITIVE\"}\n",
    "def decode_sentiment(label):\n",
    "    return decode_map[int(label)]"
   ]
  },
  {
   "cell_type": "code",
   "execution_count": 9,
   "metadata": {
    "_uuid": "4449d473187f647a195a6ac6986b009da32a7f4b"
   },
   "outputs": [
    {
     "name": "stdout",
     "output_type": "stream",
     "text": [
      "CPU times: user 342 ms, sys: 19.4 ms, total: 361 ms\n",
      "Wall time: 335 ms\n"
     ]
    }
   ],
   "source": [
    "%%time\n",
    "df.target = df.target.apply(lambda x: decode_sentiment(x))"
   ]
  },
  {
   "cell_type": "code",
   "execution_count": 10,
   "metadata": {
    "_uuid": "19eb327803192f31cce3512aacb232f4d6b38715"
   },
   "outputs": [
    {
     "data": {
      "text/plain": [
       "Text(0.5,1,u'Dataset labels distribuition')"
      ]
     },
     "execution_count": 10,
     "metadata": {},
     "output_type": "execute_result"
    },
    {
     "data": {
      "image/png": "[encoded data removed]",
      "text/plain": [
       "<matplotlib.figure.Figure at 0x7efb7ed4e510>"
      ]
     },
     "metadata": {
      "needs_background": "light"
     },
     "output_type": "display_data"
    }
   ],
   "source": [
    "target_cnt = Counter(df.target)\n",
    "\n",
    "plt.figure(figsize=(16,8))\n",
    "plt.bar(target_cnt.keys(), target_cnt.values())\n",
    "plt.title(\"Dataset labels distribuition\")"
   ]
  },
  {
   "cell_type": "markdown",
   "metadata": {
    "_uuid": "4329b1573518b03e497213efa7676220734ebb4b"
   },
   "source": [
    "### Pre-Process dataset"
   ]
  },
  {
   "cell_type": "code",
   "execution_count": 11,
   "metadata": {
    "_uuid": "8aeee8b7b9ea11b749c7f91cd4787a7b50ed1a91"
   },
   "outputs": [],
   "source": [
    "stop_words = stopwords.words(\"english\")\n",
    "stemmer = SnowballStemmer(\"english\")"
   ]
  },
  {
   "cell_type": "code",
   "execution_count": 13,
   "metadata": {
    "_uuid": "649ebcb97969b9ac4301138783704bb3d7846a49"
   },
   "outputs": [],
   "source": [
    "def preprocess(text, stem=False):\n",
    "    # Remove link,user and special characters\n",
    "    text = re.sub(TEXT_CLEANING_RE, ' ', str(text.encode(\"utf-8\")).lower()).strip()\n",
    "    tokens = []\n",
    "    for token in text.split():\n",
    "        if token not in stop_words:\n",
    "            if stem:\n",
    "                tokens.append(stemmer.stem(token))\n",
    "            else:\n",
    "                tokens.append(token)\n",
    "    return \" \".join(tokens)"
   ]
  },
  {
   "cell_type": "code",
   "execution_count": 14,
   "metadata": {},
   "outputs": [
    {
     "data": {
      "text/plain": [
       "(1600000, 6)"
      ]
     },
     "execution_count": 14,
     "metadata": {},
     "output_type": "execute_result"
    }
   ],
   "source": [
    "df.shape"
   ]
  },
  {
   "cell_type": "code",
   "execution_count": null,
   "metadata": {},
   "outputs": [],
   "source": []
  },
  {
   "cell_type": "code",
   "execution_count": 15,
   "metadata": {
    "_uuid": "f7f3e77ab9291d14687c49e71ba9b2b1e3323432"
   },
   "outputs": [
    {
     "name": "stdout",
     "output_type": "stream",
     "text": [
      "CPU times: user 3min 29s, sys: 615 ms, total: 3min 30s\n",
      "Wall time: 3min 27s\n"
     ]
    }
   ],
   "source": [
    "%%time\n",
    "df.text = df.text.apply(lambda x: preprocess(x))"
   ]
  },
  {
   "cell_type": "markdown",
   "metadata": {
    "_uuid": "f5f9714a8507409bbe780eebf2855a33e8e6ba37"
   },
   "source": [
    "### Split train and test"
   ]
  },
  {
   "cell_type": "code",
   "execution_count": 16,
   "metadata": {
    "_uuid": "d2b1179c968e3f3910c790ecf0c5b2cbb34b0e68"
   },
   "outputs": [
    {
     "name": "stdout",
     "output_type": "stream",
     "text": [
      "('TRAIN size:', 1280000)\n",
      "('TEST size:', 320000)\n"
     ]
    }
   ],
   "source": [
    "df_train, df_test = train_test_split(df, test_size=1-TRAIN_SIZE, random_state=42)\n",
    "print(\"TRAIN size:\", len(df_train))\n",
    "print(\"TEST size:\", len(df_test))"
   ]
  },
  {
   "cell_type": "markdown",
   "metadata": {
    "_uuid": "f08a28aab2c3d16d8b9681a7d5d07587153a1cd6"
   },
   "source": [
    "### Word2Vec "
   ]
  },
  {
   "cell_type": "code",
   "execution_count": 17,
   "metadata": {
    "_uuid": "2461bf564de1b4414841933d0c1d1bee5f5cc5a6"
   },
   "outputs": [
    {
     "name": "stdout",
     "output_type": "stream",
     "text": [
      "CPU times: user 1.52 s, sys: 82 ms, total: 1.6 s\n",
      "Wall time: 1.49 s\n"
     ]
    }
   ],
   "source": [
    "%%time\n",
    "documents = [_text.split() for _text in df_train.text] "
   ]
  },
  {
   "cell_type": "code",
   "execution_count": 18,
   "metadata": {
    "_uuid": "8e19b9f25801ba86420decc266d2b3e6fb44f1ea"
   },
   "outputs": [],
   "source": [
    "w2v_model = gensim.models.word2vec.Word2Vec(size=W2V_SIZE, \n",
    "                                            window=W2V_WINDOW, \n",
    "                                            min_count=W2V_MIN_COUNT, \n",
    "                                            workers=8)"
   ]
  },
  {
   "cell_type": "code",
   "execution_count": 19,
   "metadata": {
    "_uuid": "58d655af07653c594bec6bebcfb302a973b0ad9c"
   },
   "outputs": [
    {
     "name": "stderr",
     "output_type": "stream",
     "text": [
      "2019-03-12 14:00:17,425 : INFO : collecting all words and their counts\n",
      "2019-03-12 14:00:17,428 : INFO : PROGRESS: at sentence #0, processed 0 words, keeping 0 word types\n",
      "2019-03-12 14:00:17,464 : INFO : PROGRESS: at sentence #10000, processed 72565 words, keeping 14005 word types\n",
      "2019-03-12 14:00:17,481 : INFO : PROGRESS: at sentence #20000, processed 144393 words, keeping 21587 word types\n",
      "2019-03-12 14:00:17,493 : INFO : PROGRESS: at sentence #30000, processed 215826 words, keeping 27541 word types\n",
      "2019-03-12 14:00:17,503 : INFO : PROGRESS: at sentence #40000, processed 288271 words, keeping 32764 word types\n",
      "2019-03-12 14:00:17,512 : INFO : PROGRESS: at sentence #50000, processed 359772 words, keeping 37587 word types\n",
      "2019-03-12 14:00:17,521 : INFO : PROGRESS: at sentence #60000, processed 431431 words, keeping 42198 word types\n",
      "2019-03-12 14:00:17,531 : INFO : PROGRESS: at sentence #70000, processed 503103 words, keeping 46458 word types\n",
      "2019-03-12 14:00:17,540 : INFO : PROGRESS: at sentence #80000, processed 575709 words, keeping 50476 word types\n",
      "2019-03-12 14:00:17,550 : INFO : PROGRESS: at sentence #90000, processed 647100 words, keeping 54140 word types\n",
      "2019-03-12 14:00:17,559 : INFO : PROGRESS: at sentence #100000, processed 718681 words, keeping 57777 word types\n",
      "2019-03-12 14:00:17,568 : INFO : PROGRESS: at sentence #110000, processed 790696 words, keeping 61207 word types\n",
      "2019-03-12 14:00:17,577 : INFO : PROGRESS: at sentence #120000, processed 863134 words, keeping 64583 word types\n",
      "2019-03-12 14:00:17,586 : INFO : PROGRESS: at sentence #130000, processed 935111 words, keeping 67865 word types\n",
      "2019-03-12 14:00:17,595 : INFO : PROGRESS: at sentence #140000, processed 1006668 words, keeping 70966 word types\n",
      "2019-03-12 14:00:17,605 : INFO : PROGRESS: at sentence #150000, processed 1078512 words, keeping 74119 word types\n",
      "2019-03-12 14:00:17,614 : INFO : PROGRESS: at sentence #160000, processed 1149914 words, keeping 77187 word types\n",
      "2019-03-12 14:00:17,623 : INFO : PROGRESS: at sentence #170000, processed 1222145 words, keeping 80267 word types\n",
      "2019-03-12 14:00:17,635 : INFO : PROGRESS: at sentence #180000, processed 1294708 words, keeping 83393 word types\n",
      "2019-03-12 14:00:17,644 : INFO : PROGRESS: at sentence #190000, processed 1367608 words, keeping 86329 word types\n",
      "2019-03-12 14:00:17,656 : INFO : PROGRESS: at sentence #200000, processed 1439469 words, keeping 89103 word types\n",
      "2019-03-12 14:00:17,667 : INFO : PROGRESS: at sentence #210000, processed 1512099 words, keeping 91840 word types\n",
      "2019-03-12 14:00:17,677 : INFO : PROGRESS: at sentence #220000, processed 1584149 words, keeping 94636 word types\n",
      "2019-03-12 14:00:17,689 : INFO : PROGRESS: at sentence #230000, processed 1656354 words, keeping 97353 word types\n",
      "2019-03-12 14:00:17,701 : INFO : PROGRESS: at sentence #240000, processed 1728573 words, keeping 99975 word types\n",
      "2019-03-12 14:00:17,711 : INFO : PROGRESS: at sentence #250000, processed 1801102 words, keeping 102594 word types\n",
      "2019-03-12 14:00:17,722 : INFO : PROGRESS: at sentence #260000, processed 1873103 words, keeping 105162 word types\n",
      "2019-03-12 14:00:17,732 : INFO : PROGRESS: at sentence #270000, processed 1945245 words, keeping 107626 word types\n",
      "2019-03-12 14:00:17,742 : INFO : PROGRESS: at sentence #280000, processed 2017163 words, keeping 110141 word types\n",
      "2019-03-12 14:00:17,752 : INFO : PROGRESS: at sentence #290000, processed 2089574 words, keeping 112539 word types\n",
      "2019-03-12 14:00:17,763 : INFO : PROGRESS: at sentence #300000, processed 2160996 words, keeping 114893 word types\n",
      "2019-03-12 14:00:17,773 : INFO : PROGRESS: at sentence #310000, processed 2232913 words, keeping 117298 word types\n",
      "2019-03-12 14:00:17,785 : INFO : PROGRESS: at sentence #320000, processed 2305039 words, keeping 119693 word types\n",
      "2019-03-12 14:00:17,795 : INFO : PROGRESS: at sentence #330000, processed 2377119 words, keeping 122131 word types\n",
      "2019-03-12 14:00:17,805 : INFO : PROGRESS: at sentence #340000, processed 2449370 words, keeping 124416 word types\n",
      "2019-03-12 14:00:17,814 : INFO : PROGRESS: at sentence #350000, processed 2521564 words, keeping 126669 word types\n",
      "2019-03-12 14:00:17,824 : INFO : PROGRESS: at sentence #360000, processed 2593681 words, keeping 128912 word types\n",
      "2019-03-12 14:00:17,834 : INFO : PROGRESS: at sentence #370000, processed 2665692 words, keeping 131135 word types\n",
      "2019-03-12 14:00:17,843 : INFO : PROGRESS: at sentence #380000, processed 2737859 words, keeping 133403 word types\n",
      "2019-03-12 14:00:17,853 : INFO : PROGRESS: at sentence #390000, processed 2809848 words, keeping 135551 word types\n",
      "2019-03-12 14:00:17,865 : INFO : PROGRESS: at sentence #400000, processed 2882438 words, keeping 137742 word types\n",
      "2019-03-12 14:00:17,877 : INFO : PROGRESS: at sentence #410000, processed 2954075 words, keeping 139909 word types\n",
      "2019-03-12 14:00:17,887 : INFO : PROGRESS: at sentence #420000, processed 3026247 words, keeping 142144 word types\n",
      "2019-03-12 14:00:17,899 : INFO : PROGRESS: at sentence #430000, processed 3098659 words, keeping 144364 word types\n",
      "2019-03-12 14:00:17,912 : INFO : PROGRESS: at sentence #440000, processed 3170663 words, keeping 146439 word types\n",
      "2019-03-12 14:00:17,921 : INFO : PROGRESS: at sentence #450000, processed 3243344 words, keeping 148526 word types\n",
      "2019-03-12 14:00:17,931 : INFO : PROGRESS: at sentence #460000, processed 3315466 words, keeping 150610 word types\n",
      "2019-03-12 14:00:17,940 : INFO : PROGRESS: at sentence #470000, processed 3388295 words, keeping 152737 word types\n",
      "2019-03-12 14:00:17,953 : INFO : PROGRESS: at sentence #480000, processed 3460120 words, keeping 154757 word types\n",
      "2019-03-12 14:00:17,962 : INFO : PROGRESS: at sentence #490000, processed 3531883 words, keeping 156825 word types\n",
      "2019-03-12 14:00:17,972 : INFO : PROGRESS: at sentence #500000, processed 3604217 words, keeping 158859 word types\n",
      "2019-03-12 14:00:17,982 : INFO : PROGRESS: at sentence #510000, processed 3676427 words, keeping 160852 word types\n",
      "2019-03-12 14:00:17,993 : INFO : PROGRESS: at sentence #520000, processed 3749045 words, keeping 162863 word types\n",
      "2019-03-12 14:00:18,006 : INFO : PROGRESS: at sentence #530000, processed 3821622 words, keeping 164929 word types\n",
      "2019-03-12 14:00:18,017 : INFO : PROGRESS: at sentence #540000, processed 3893627 words, keeping 166840 word types\n",
      "2019-03-12 14:00:18,026 : INFO : PROGRESS: at sentence #550000, processed 3965477 words, keeping 168799 word types\n",
      "2019-03-12 14:00:18,037 : INFO : PROGRESS: at sentence #560000, processed 4038050 words, keeping 170802 word types\n",
      "2019-03-12 14:00:18,048 : INFO : PROGRESS: at sentence #570000, processed 4110296 words, keeping 172760 word types\n",
      "2019-03-12 14:00:18,058 : INFO : PROGRESS: at sentence #580000, processed 4182385 words, keeping 174635 word types\n",
      "2019-03-12 14:00:18,075 : INFO : PROGRESS: at sentence #590000, processed 4254632 words, keeping 176470 word types\n",
      "2019-03-12 14:00:18,088 : INFO : PROGRESS: at sentence #600000, processed 4326859 words, keeping 178350 word types\n",
      "2019-03-12 14:00:18,098 : INFO : PROGRESS: at sentence #610000, processed 4399183 words, keeping 180290 word types\n",
      "2019-03-12 14:00:18,110 : INFO : PROGRESS: at sentence #620000, processed 4471343 words, keeping 182129 word types\n",
      "2019-03-12 14:00:18,121 : INFO : PROGRESS: at sentence #630000, processed 4543286 words, keeping 184005 word types\n",
      "2019-03-12 14:00:18,131 : INFO : PROGRESS: at sentence #640000, processed 4615780 words, keeping 185835 word types\n",
      "2019-03-12 14:00:18,141 : INFO : PROGRESS: at sentence #650000, processed 4688481 words, keeping 187705 word types\n",
      "2019-03-12 14:00:18,152 : INFO : PROGRESS: at sentence #660000, processed 4760481 words, keeping 189439 word types\n",
      "2019-03-12 14:00:18,162 : INFO : PROGRESS: at sentence #670000, processed 4833024 words, keeping 191232 word types\n",
      "2019-03-12 14:00:18,173 : INFO : PROGRESS: at sentence #680000, processed 4904516 words, keeping 193177 word types\n",
      "2019-03-12 14:00:18,183 : INFO : PROGRESS: at sentence #690000, processed 4976968 words, keeping 194960 word types\n",
      "2019-03-12 14:00:18,194 : INFO : PROGRESS: at sentence #700000, processed 5049412 words, keeping 196725 word types\n",
      "2019-03-12 14:00:18,204 : INFO : PROGRESS: at sentence #710000, processed 5121976 words, keeping 198516 word types\n"
     ]
    },
    {
     "name": "stderr",
     "output_type": "stream",
     "text": [
      "2019-03-12 14:00:18,217 : INFO : PROGRESS: at sentence #720000, processed 5193881 words, keeping 200325 word types\n",
      "2019-03-12 14:00:18,227 : INFO : PROGRESS: at sentence #730000, processed 5265467 words, keeping 202133 word types\n",
      "2019-03-12 14:00:18,238 : INFO : PROGRESS: at sentence #740000, processed 5337518 words, keeping 203818 word types\n",
      "2019-03-12 14:00:18,248 : INFO : PROGRESS: at sentence #750000, processed 5409321 words, keeping 205535 word types\n",
      "2019-03-12 14:00:18,258 : INFO : PROGRESS: at sentence #760000, processed 5481512 words, keeping 207282 word types\n",
      "2019-03-12 14:00:18,270 : INFO : PROGRESS: at sentence #770000, processed 5554093 words, keeping 209076 word types\n",
      "2019-03-12 14:00:18,281 : INFO : PROGRESS: at sentence #780000, processed 5625382 words, keeping 210805 word types\n",
      "2019-03-12 14:00:18,294 : INFO : PROGRESS: at sentence #790000, processed 5698066 words, keeping 212618 word types\n",
      "2019-03-12 14:00:18,307 : INFO : PROGRESS: at sentence #800000, processed 5770880 words, keeping 214374 word types\n",
      "2019-03-12 14:00:18,319 : INFO : PROGRESS: at sentence #810000, processed 5843418 words, keeping 216009 word types\n",
      "2019-03-12 14:00:18,332 : INFO : PROGRESS: at sentence #820000, processed 5915628 words, keeping 217804 word types\n",
      "2019-03-12 14:00:18,344 : INFO : PROGRESS: at sentence #830000, processed 5987499 words, keeping 219585 word types\n",
      "2019-03-12 14:00:18,355 : INFO : PROGRESS: at sentence #840000, processed 6058973 words, keeping 221344 word types\n",
      "2019-03-12 14:00:18,367 : INFO : PROGRESS: at sentence #850000, processed 6131125 words, keeping 223002 word types\n",
      "2019-03-12 14:00:18,379 : INFO : PROGRESS: at sentence #860000, processed 6202951 words, keeping 224643 word types\n",
      "2019-03-12 14:00:18,391 : INFO : PROGRESS: at sentence #870000, processed 6275461 words, keeping 226362 word types\n",
      "2019-03-12 14:00:18,405 : INFO : PROGRESS: at sentence #880000, processed 6347661 words, keeping 227986 word types\n",
      "2019-03-12 14:00:18,415 : INFO : PROGRESS: at sentence #890000, processed 6419806 words, keeping 229634 word types\n",
      "2019-03-12 14:00:18,428 : INFO : PROGRESS: at sentence #900000, processed 6491644 words, keeping 231389 word types\n",
      "2019-03-12 14:00:18,439 : INFO : PROGRESS: at sentence #910000, processed 6564022 words, keeping 233050 word types\n",
      "2019-03-12 14:00:18,449 : INFO : PROGRESS: at sentence #920000, processed 6636228 words, keeping 234686 word types\n",
      "2019-03-12 14:00:18,460 : INFO : PROGRESS: at sentence #930000, processed 6708573 words, keeping 236393 word types\n",
      "2019-03-12 14:00:18,471 : INFO : PROGRESS: at sentence #940000, processed 6779956 words, keeping 238052 word types\n",
      "2019-03-12 14:00:18,481 : INFO : PROGRESS: at sentence #950000, processed 6852599 words, keeping 239716 word types\n",
      "2019-03-12 14:00:18,491 : INFO : PROGRESS: at sentence #960000, processed 6924717 words, keeping 241354 word types\n",
      "2019-03-12 14:00:18,504 : INFO : PROGRESS: at sentence #970000, processed 6996991 words, keeping 242979 word types\n",
      "2019-03-12 14:00:18,517 : INFO : PROGRESS: at sentence #980000, processed 7068401 words, keeping 244645 word types\n",
      "2019-03-12 14:00:18,530 : INFO : PROGRESS: at sentence #990000, processed 7140345 words, keeping 246185 word types\n",
      "2019-03-12 14:00:18,542 : INFO : PROGRESS: at sentence #1000000, processed 7211756 words, keeping 247725 word types\n",
      "2019-03-12 14:00:18,555 : INFO : PROGRESS: at sentence #1010000, processed 7283266 words, keeping 249287 word types\n",
      "2019-03-12 14:00:18,566 : INFO : PROGRESS: at sentence #1020000, processed 7355298 words, keeping 250859 word types\n",
      "2019-03-12 14:00:18,579 : INFO : PROGRESS: at sentence #1030000, processed 7426917 words, keeping 252365 word types\n",
      "2019-03-12 14:00:18,589 : INFO : PROGRESS: at sentence #1040000, processed 7498814 words, keeping 253929 word types\n",
      "2019-03-12 14:00:18,602 : INFO : PROGRESS: at sentence #1050000, processed 7570498 words, keeping 255470 word types\n",
      "2019-03-12 14:00:18,615 : INFO : PROGRESS: at sentence #1060000, processed 7643250 words, keeping 257034 word types\n",
      "2019-03-12 14:00:18,625 : INFO : PROGRESS: at sentence #1070000, processed 7714720 words, keeping 258508 word types\n",
      "2019-03-12 14:00:18,639 : INFO : PROGRESS: at sentence #1080000, processed 7787370 words, keeping 260070 word types\n",
      "2019-03-12 14:00:18,649 : INFO : PROGRESS: at sentence #1090000, processed 7859335 words, keeping 261682 word types\n",
      "2019-03-12 14:00:18,660 : INFO : PROGRESS: at sentence #1100000, processed 7932028 words, keeping 263277 word types\n",
      "2019-03-12 14:00:18,670 : INFO : PROGRESS: at sentence #1110000, processed 8004145 words, keeping 264799 word types\n",
      "2019-03-12 14:00:18,683 : INFO : PROGRESS: at sentence #1120000, processed 8075879 words, keeping 266308 word types\n",
      "2019-03-12 14:00:18,695 : INFO : PROGRESS: at sentence #1130000, processed 8148162 words, keeping 267825 word types\n",
      "2019-03-12 14:00:18,706 : INFO : PROGRESS: at sentence #1140000, processed 8220486 words, keeping 269390 word types\n",
      "2019-03-12 14:00:18,716 : INFO : PROGRESS: at sentence #1150000, processed 8292497 words, keeping 270893 word types\n",
      "2019-03-12 14:00:18,726 : INFO : PROGRESS: at sentence #1160000, processed 8363837 words, keeping 272399 word types\n",
      "2019-03-12 14:00:18,737 : INFO : PROGRESS: at sentence #1170000, processed 8435509 words, keeping 273969 word types\n",
      "2019-03-12 14:00:18,750 : INFO : PROGRESS: at sentence #1180000, processed 8507794 words, keeping 275520 word types\n",
      "2019-03-12 14:00:18,762 : INFO : PROGRESS: at sentence #1190000, processed 8579079 words, keeping 277006 word types\n",
      "2019-03-12 14:00:18,774 : INFO : PROGRESS: at sentence #1200000, processed 8650605 words, keeping 278456 word types\n",
      "2019-03-12 14:00:18,786 : INFO : PROGRESS: at sentence #1210000, processed 8721892 words, keeping 279958 word types\n",
      "2019-03-12 14:00:18,800 : INFO : PROGRESS: at sentence #1220000, processed 8793794 words, keeping 281426 word types\n",
      "2019-03-12 14:00:18,813 : INFO : PROGRESS: at sentence #1230000, processed 8865725 words, keeping 282980 word types\n",
      "2019-03-12 14:00:18,824 : INFO : PROGRESS: at sentence #1240000, processed 8938172 words, keeping 284541 word types\n",
      "2019-03-12 14:00:18,838 : INFO : PROGRESS: at sentence #1250000, processed 9010841 words, keeping 286063 word types\n",
      "2019-03-12 14:00:18,848 : INFO : PROGRESS: at sentence #1260000, processed 9083260 words, keeping 287520 word types\n",
      "2019-03-12 14:00:18,859 : INFO : PROGRESS: at sentence #1270000, processed 9155615 words, keeping 288986 word types\n",
      "2019-03-12 14:00:18,869 : INFO : collected 290417 word types from a corpus of 9227203 raw words and 1280000 sentences\n",
      "2019-03-12 14:00:18,870 : INFO : Loading a fresh vocabulary\n",
      "2019-03-12 14:00:19,023 : INFO : effective_min_count=10 retains 30369 unique words (10% of original 290417, drops 260048)\n",
      "2019-03-12 14:00:19,025 : INFO : effective_min_count=10 leaves 8780739 word corpus (95% of original 9227203, drops 446464)\n",
      "2019-03-12 14:00:19,079 : INFO : deleting the raw counts dictionary of 290417 items\n",
      "2019-03-12 14:00:19,085 : INFO : sample=0.001 downsamples 45 most-common words\n",
      "2019-03-12 14:00:19,086 : INFO : downsampling leaves estimated 8222658 word corpus (93.6% of prior 8780739)\n",
      "2019-03-12 14:00:19,139 : INFO : estimated required memory for 30369 words and 300 dimensions: 88070100 bytes\n",
      "2019-03-12 14:00:19,140 : INFO : resetting layer weights\n"
     ]
    }
   ],
   "source": [
    "w2v_model.build_vocab(documents)"
   ]
  },
  {
   "cell_type": "code",
   "execution_count": 20,
   "metadata": {
    "_uuid": "72a5628ca81fd4b8983c12d93ae0bf950b86b6ae"
   },
   "outputs": [
    {
     "name": "stdout",
     "output_type": "stream",
     "text": [
      "('Vocab size', 30369)\n"
     ]
    }
   ],
   "source": [
    "words = w2v_model.wv.vocab.keys()\n",
    "vocab_size = len(words)\n",
    "print(\"Vocab size\", vocab_size)"
   ]
  },
  {
   "cell_type": "code",
   "execution_count": 21,
   "metadata": {
    "_uuid": "68c3e4a5ba07cac3dee67f78ecdd1404c7f83f14"
   },
   "outputs": [
    {
     "name": "stderr",
     "output_type": "stream",
     "text": [
      "2019-03-12 14:00:19,510 : INFO : training model with 8 workers on 30369 vocabulary and 300 features, using sg=0 hs=0 sample=0.001 negative=5 window=7\n",
      "2019-03-12 14:00:20,528 : INFO : EPOCH 1 - PROGRESS: at 19.73% examples, 1605043 words/s, in_qsize 15, out_qsize 1\n",
      "2019-03-12 14:00:21,537 : INFO : EPOCH 1 - PROGRESS: at 40.73% examples, 1659507 words/s, in_qsize 15, out_qsize 0\n",
      "2019-03-12 14:00:22,540 : INFO : EPOCH 1 - PROGRESS: at 60.74% examples, 1653948 words/s, in_qsize 15, out_qsize 1\n",
      "2019-03-12 14:00:23,542 : INFO : EPOCH 1 - PROGRESS: at 81.01% examples, 1656397 words/s, in_qsize 16, out_qsize 1\n",
      "2019-03-12 14:00:24,399 : INFO : worker thread finished; awaiting finish of 7 more threads\n",
      "2019-03-12 14:00:24,400 : INFO : worker thread finished; awaiting finish of 6 more threads\n",
      "2019-03-12 14:00:24,401 : INFO : worker thread finished; awaiting finish of 5 more threads\n",
      "2019-03-12 14:00:24,403 : INFO : worker thread finished; awaiting finish of 4 more threads\n",
      "2019-03-12 14:00:24,404 : INFO : worker thread finished; awaiting finish of 3 more threads\n",
      "2019-03-12 14:00:24,408 : INFO : worker thread finished; awaiting finish of 2 more threads\n",
      "2019-03-12 14:00:24,409 : INFO : worker thread finished; awaiting finish of 1 more threads\n",
      "2019-03-12 14:00:24,416 : INFO : worker thread finished; awaiting finish of 0 more threads\n",
      "2019-03-12 14:00:24,417 : INFO : EPOCH - 1 : training on 9227203 raw words (8222384 effective words) took 4.9s, 1678369 effective words/s\n",
      "2019-03-12 14:00:25,425 : INFO : EPOCH 2 - PROGRESS: at 19.73% examples, 1616500 words/s, in_qsize 16, out_qsize 0\n",
      "2019-03-12 14:00:26,430 : INFO : EPOCH 2 - PROGRESS: at 40.40% examples, 1654351 words/s, in_qsize 12, out_qsize 0\n",
      "2019-03-12 14:00:27,433 : INFO : EPOCH 2 - PROGRESS: at 60.63% examples, 1656936 words/s, in_qsize 16, out_qsize 0\n",
      "2019-03-12 14:00:28,436 : INFO : EPOCH 2 - PROGRESS: at 80.90% examples, 1657965 words/s, in_qsize 16, out_qsize 0\n",
      "2019-03-12 14:00:29,326 : INFO : worker thread finished; awaiting finish of 7 more threads\n",
      "2019-03-12 14:00:29,327 : INFO : worker thread finished; awaiting finish of 6 more threads\n",
      "2019-03-12 14:00:29,329 : INFO : worker thread finished; awaiting finish of 5 more threads\n",
      "2019-03-12 14:00:29,330 : INFO : worker thread finished; awaiting finish of 4 more threads\n",
      "2019-03-12 14:00:29,331 : INFO : worker thread finished; awaiting finish of 3 more threads\n",
      "2019-03-12 14:00:29,332 : INFO : worker thread finished; awaiting finish of 2 more threads\n",
      "2019-03-12 14:00:29,336 : INFO : worker thread finished; awaiting finish of 1 more threads\n",
      "2019-03-12 14:00:29,341 : INFO : worker thread finished; awaiting finish of 0 more threads\n",
      "2019-03-12 14:00:29,342 : INFO : EPOCH - 2 : training on 9227203 raw words (8222427 effective words) took 4.9s, 1671116 effective words/s\n",
      "2019-03-12 14:00:30,352 : INFO : EPOCH 3 - PROGRESS: at 19.84% examples, 1625639 words/s, in_qsize 16, out_qsize 1\n",
      "2019-03-12 14:00:31,359 : INFO : EPOCH 3 - PROGRESS: at 40.41% examples, 1656045 words/s, in_qsize 9, out_qsize 3\n",
      "2019-03-12 14:00:32,363 : INFO : EPOCH 3 - PROGRESS: at 60.63% examples, 1658205 words/s, in_qsize 15, out_qsize 1\n",
      "2019-03-12 14:00:33,367 : INFO : EPOCH 3 - PROGRESS: at 81.01% examples, 1658802 words/s, in_qsize 15, out_qsize 0\n",
      "2019-03-12 14:00:34,226 : INFO : worker thread finished; awaiting finish of 7 more threads\n",
      "2019-03-12 14:00:34,229 : INFO : worker thread finished; awaiting finish of 6 more threads\n",
      "2019-03-12 14:00:34,230 : INFO : worker thread finished; awaiting finish of 5 more threads\n",
      "2019-03-12 14:00:34,232 : INFO : worker thread finished; awaiting finish of 4 more threads\n",
      "2019-03-12 14:00:34,233 : INFO : worker thread finished; awaiting finish of 3 more threads\n",
      "2019-03-12 14:00:34,236 : INFO : worker thread finished; awaiting finish of 2 more threads\n",
      "2019-03-12 14:00:34,242 : INFO : worker thread finished; awaiting finish of 1 more threads\n",
      "2019-03-12 14:00:34,243 : INFO : worker thread finished; awaiting finish of 0 more threads\n",
      "2019-03-12 14:00:34,244 : INFO : EPOCH - 3 : training on 9227203 raw words (8222839 effective words) took 4.9s, 1679795 effective words/s\n",
      "2019-03-12 14:00:35,250 : INFO : EPOCH 4 - PROGRESS: at 19.41% examples, 1591073 words/s, in_qsize 13, out_qsize 2\n",
      "2019-03-12 14:00:36,252 : INFO : EPOCH 4 - PROGRESS: at 39.87% examples, 1637052 words/s, in_qsize 15, out_qsize 0\n",
      "2019-03-12 14:00:37,253 : INFO : EPOCH 4 - PROGRESS: at 60.30% examples, 1652262 words/s, in_qsize 15, out_qsize 0\n",
      "2019-03-12 14:00:38,255 : INFO : EPOCH 4 - PROGRESS: at 80.90% examples, 1661832 words/s, in_qsize 14, out_qsize 1\n",
      "2019-03-12 14:00:39,137 : INFO : worker thread finished; awaiting finish of 7 more threads\n",
      "2019-03-12 14:00:39,138 : INFO : worker thread finished; awaiting finish of 6 more threads\n",
      "2019-03-12 14:00:39,139 : INFO : worker thread finished; awaiting finish of 5 more threads\n",
      "2019-03-12 14:00:39,141 : INFO : worker thread finished; awaiting finish of 4 more threads\n",
      "2019-03-12 14:00:39,144 : INFO : worker thread finished; awaiting finish of 3 more threads\n",
      "2019-03-12 14:00:39,148 : INFO : worker thread finished; awaiting finish of 2 more threads\n",
      "2019-03-12 14:00:39,149 : INFO : worker thread finished; awaiting finish of 1 more threads\n",
      "2019-03-12 14:00:39,151 : INFO : worker thread finished; awaiting finish of 0 more threads\n",
      "2019-03-12 14:00:39,153 : INFO : EPOCH - 4 : training on 9227203 raw words (8222195 effective words) took 4.9s, 1676056 effective words/s\n",
      "2019-03-12 14:00:40,165 : INFO : EPOCH 5 - PROGRESS: at 19.62% examples, 1609538 words/s, in_qsize 15, out_qsize 1\n",
      "2019-03-12 14:00:41,170 : INFO : EPOCH 5 - PROGRESS: at 40.08% examples, 1641742 words/s, in_qsize 15, out_qsize 0\n",
      "2019-03-12 14:00:42,177 : INFO : EPOCH 5 - PROGRESS: at 60.64% examples, 1654760 words/s, in_qsize 15, out_qsize 0\n",
      "2019-03-12 14:00:43,187 : INFO : EPOCH 5 - PROGRESS: at 81.23% examples, 1662800 words/s, in_qsize 14, out_qsize 1\n",
      "2019-03-12 14:00:44,035 : INFO : worker thread finished; awaiting finish of 7 more threads\n",
      "2019-03-12 14:00:44,037 : INFO : worker thread finished; awaiting finish of 6 more threads\n",
      "2019-03-12 14:00:44,038 : INFO : worker thread finished; awaiting finish of 5 more threads\n",
      "2019-03-12 14:00:44,039 : INFO : worker thread finished; awaiting finish of 4 more threads\n",
      "2019-03-12 14:00:44,041 : INFO : worker thread finished; awaiting finish of 3 more threads\n",
      "2019-03-12 14:00:44,045 : INFO : worker thread finished; awaiting finish of 2 more threads\n",
      "2019-03-12 14:00:44,046 : INFO : worker thread finished; awaiting finish of 1 more threads\n",
      "2019-03-12 14:00:44,053 : INFO : worker thread finished; awaiting finish of 0 more threads\n",
      "2019-03-12 14:00:44,054 : INFO : EPOCH - 5 : training on 9227203 raw words (8221873 effective words) took 4.9s, 1680814 effective words/s\n",
      "2019-03-12 14:00:45,065 : INFO : EPOCH 6 - PROGRESS: at 19.73% examples, 1613415 words/s, in_qsize 16, out_qsize 0\n",
      "2019-03-12 14:00:46,070 : INFO : EPOCH 6 - PROGRESS: at 40.19% examples, 1648067 words/s, in_qsize 15, out_qsize 1\n",
      "2019-03-12 14:00:47,065 : INFO : EPOCH 6 - PROGRESS: at 60.42% examples, 1653263 words/s, in_qsize 15, out_qsize 1\n",
      "2019-03-12 14:00:48,071 : INFO : EPOCH 6 - PROGRESS: at 81.01% examples, 1661192 words/s, in_qsize 15, out_qsize 1\n",
      "2019-03-12 14:00:48,935 : INFO : worker thread finished; awaiting finish of 7 more threads\n",
      "2019-03-12 14:00:48,937 : INFO : worker thread finished; awaiting finish of 6 more threads\n",
      "2019-03-12 14:00:48,938 : INFO : worker thread finished; awaiting finish of 5 more threads\n",
      "2019-03-12 14:00:48,940 : INFO : worker thread finished; awaiting finish of 4 more threads\n",
      "2019-03-12 14:00:48,942 : INFO : worker thread finished; awaiting finish of 3 more threads\n",
      "2019-03-12 14:00:48,944 : INFO : worker thread finished; awaiting finish of 2 more threads\n",
      "2019-03-12 14:00:48,952 : INFO : worker thread finished; awaiting finish of 1 more threads\n",
      "2019-03-12 14:00:48,953 : INFO : worker thread finished; awaiting finish of 0 more threads\n",
      "2019-03-12 14:00:48,955 : INFO : EPOCH - 6 : training on 9227203 raw words (8222965 effective words) took 4.9s, 1679528 effective words/s\n",
      "2019-03-12 14:00:49,973 : INFO : EPOCH 7 - PROGRESS: at 19.51% examples, 1584795 words/s, in_qsize 13, out_qsize 2\n"
     ]
    },
    {
     "name": "stderr",
     "output_type": "stream",
     "text": [
      "2019-03-12 14:00:50,974 : INFO : EPOCH 7 - PROGRESS: at 40.40% examples, 1651585 words/s, in_qsize 15, out_qsize 0\n",
      "2019-03-12 14:00:51,976 : INFO : EPOCH 7 - PROGRESS: at 60.31% examples, 1646138 words/s, in_qsize 15, out_qsize 1\n",
      "2019-03-12 14:00:52,977 : INFO : EPOCH 7 - PROGRESS: at 81.01% examples, 1659724 words/s, in_qsize 15, out_qsize 0\n",
      "2019-03-12 14:00:53,853 : INFO : worker thread finished; awaiting finish of 7 more threads\n",
      "2019-03-12 14:00:53,854 : INFO : worker thread finished; awaiting finish of 6 more threads\n",
      "2019-03-12 14:00:53,856 : INFO : worker thread finished; awaiting finish of 5 more threads\n",
      "2019-03-12 14:00:53,857 : INFO : worker thread finished; awaiting finish of 4 more threads\n",
      "2019-03-12 14:00:53,858 : INFO : worker thread finished; awaiting finish of 3 more threads\n",
      "2019-03-12 14:00:53,862 : INFO : worker thread finished; awaiting finish of 2 more threads\n",
      "2019-03-12 14:00:53,863 : INFO : worker thread finished; awaiting finish of 1 more threads\n",
      "2019-03-12 14:00:53,869 : INFO : worker thread finished; awaiting finish of 0 more threads\n",
      "2019-03-12 14:00:53,871 : INFO : EPOCH - 7 : training on 9227203 raw words (8222590 effective words) took 4.9s, 1674833 effective words/s\n",
      "2019-03-12 14:00:54,880 : INFO : EPOCH 8 - PROGRESS: at 19.62% examples, 1603224 words/s, in_qsize 16, out_qsize 0\n",
      "2019-03-12 14:00:55,883 : INFO : EPOCH 8 - PROGRESS: at 40.08% examples, 1641457 words/s, in_qsize 11, out_qsize 1\n",
      "2019-03-12 14:00:56,886 : INFO : EPOCH 8 - PROGRESS: at 60.85% examples, 1662620 words/s, in_qsize 16, out_qsize 0\n",
      "2019-03-12 14:00:57,896 : INFO : EPOCH 8 - PROGRESS: at 81.23% examples, 1661671 words/s, in_qsize 16, out_qsize 0\n",
      "2019-03-12 14:00:58,759 : INFO : worker thread finished; awaiting finish of 7 more threads\n",
      "2019-03-12 14:00:58,761 : INFO : worker thread finished; awaiting finish of 6 more threads\n",
      "2019-03-12 14:00:58,762 : INFO : worker thread finished; awaiting finish of 5 more threads\n",
      "2019-03-12 14:00:58,765 : INFO : worker thread finished; awaiting finish of 4 more threads\n",
      "2019-03-12 14:00:58,766 : INFO : worker thread finished; awaiting finish of 3 more threads\n",
      "2019-03-12 14:00:58,768 : INFO : worker thread finished; awaiting finish of 2 more threads\n",
      "2019-03-12 14:00:58,770 : INFO : worker thread finished; awaiting finish of 1 more threads\n",
      "2019-03-12 14:00:58,773 : INFO : worker thread finished; awaiting finish of 0 more threads\n",
      "2019-03-12 14:00:58,775 : INFO : EPOCH - 8 : training on 9227203 raw words (8223615 effective words) took 4.9s, 1678176 effective words/s\n",
      "2019-03-12 14:00:59,789 : INFO : EPOCH 9 - PROGRESS: at 20.05% examples, 1641478 words/s, in_qsize 15, out_qsize 1\n",
      "2019-03-12 14:01:00,786 : INFO : EPOCH 9 - PROGRESS: at 40.40% examples, 1656944 words/s, in_qsize 15, out_qsize 0\n",
      "2019-03-12 14:01:01,798 : INFO : EPOCH 9 - PROGRESS: at 60.96% examples, 1664761 words/s, in_qsize 14, out_qsize 2\n",
      "2019-03-12 14:01:02,800 : INFO : EPOCH 9 - PROGRESS: at 81.66% examples, 1671114 words/s, in_qsize 16, out_qsize 0\n",
      "2019-03-12 14:01:03,625 : INFO : worker thread finished; awaiting finish of 7 more threads\n",
      "2019-03-12 14:01:03,627 : INFO : worker thread finished; awaiting finish of 6 more threads\n",
      "2019-03-12 14:01:03,628 : INFO : worker thread finished; awaiting finish of 5 more threads\n",
      "2019-03-12 14:01:03,631 : INFO : worker thread finished; awaiting finish of 4 more threads\n",
      "2019-03-12 14:01:03,633 : INFO : worker thread finished; awaiting finish of 3 more threads\n",
      "2019-03-12 14:01:03,634 : INFO : worker thread finished; awaiting finish of 2 more threads\n",
      "2019-03-12 14:01:03,636 : INFO : worker thread finished; awaiting finish of 1 more threads\n",
      "2019-03-12 14:01:03,641 : INFO : worker thread finished; awaiting finish of 0 more threads\n",
      "2019-03-12 14:01:03,642 : INFO : EPOCH - 9 : training on 9227203 raw words (8223469 effective words) took 4.9s, 1691457 effective words/s\n",
      "2019-03-12 14:01:04,651 : INFO : EPOCH 10 - PROGRESS: at 19.30% examples, 1581810 words/s, in_qsize 14, out_qsize 1\n",
      "2019-03-12 14:01:05,663 : INFO : EPOCH 10 - PROGRESS: at 39.86% examples, 1631323 words/s, in_qsize 16, out_qsize 1\n",
      "2019-03-12 14:01:06,659 : INFO : EPOCH 10 - PROGRESS: at 59.87% examples, 1636474 words/s, in_qsize 15, out_qsize 1\n",
      "2019-03-12 14:01:07,665 : INFO : EPOCH 10 - PROGRESS: at 80.36% examples, 1645731 words/s, in_qsize 15, out_qsize 0\n",
      "2019-03-12 14:01:08,552 : INFO : worker thread finished; awaiting finish of 7 more threads\n",
      "2019-03-12 14:01:08,554 : INFO : worker thread finished; awaiting finish of 6 more threads\n",
      "2019-03-12 14:01:08,555 : INFO : worker thread finished; awaiting finish of 5 more threads\n",
      "2019-03-12 14:01:08,557 : INFO : worker thread finished; awaiting finish of 4 more threads\n",
      "2019-03-12 14:01:08,558 : INFO : worker thread finished; awaiting finish of 3 more threads\n",
      "2019-03-12 14:01:08,564 : INFO : worker thread finished; awaiting finish of 2 more threads\n",
      "2019-03-12 14:01:08,565 : INFO : worker thread finished; awaiting finish of 1 more threads\n",
      "2019-03-12 14:01:08,567 : INFO : worker thread finished; awaiting finish of 0 more threads\n",
      "2019-03-12 14:01:08,568 : INFO : EPOCH - 10 : training on 9227203 raw words (8222782 effective words) took 4.9s, 1671388 effective words/s\n",
      "2019-03-12 14:01:09,582 : INFO : EPOCH 11 - PROGRESS: at 19.73% examples, 1604295 words/s, in_qsize 16, out_qsize 0\n",
      "2019-03-12 14:01:10,586 : INFO : EPOCH 11 - PROGRESS: at 39.97% examples, 1631518 words/s, in_qsize 16, out_qsize 0\n",
      "2019-03-12 14:01:11,595 : INFO : EPOCH 11 - PROGRESS: at 60.41% examples, 1643880 words/s, in_qsize 16, out_qsize 0\n",
      "2019-03-12 14:01:12,596 : INFO : EPOCH 11 - PROGRESS: at 80.68% examples, 1648820 words/s, in_qsize 16, out_qsize 0\n",
      "2019-03-12 14:01:13,479 : INFO : worker thread finished; awaiting finish of 7 more threads\n",
      "2019-03-12 14:01:13,481 : INFO : worker thread finished; awaiting finish of 6 more threads\n",
      "2019-03-12 14:01:13,482 : INFO : worker thread finished; awaiting finish of 5 more threads\n",
      "2019-03-12 14:01:13,483 : INFO : worker thread finished; awaiting finish of 4 more threads\n",
      "2019-03-12 14:01:13,485 : INFO : worker thread finished; awaiting finish of 3 more threads\n",
      "2019-03-12 14:01:13,489 : INFO : worker thread finished; awaiting finish of 2 more threads\n",
      "2019-03-12 14:01:13,491 : INFO : worker thread finished; awaiting finish of 1 more threads\n",
      "2019-03-12 14:01:13,494 : INFO : worker thread finished; awaiting finish of 0 more threads\n",
      "2019-03-12 14:01:13,496 : INFO : EPOCH - 11 : training on 9227203 raw words (8222207 effective words) took 4.9s, 1669555 effective words/s\n",
      "2019-03-12 14:01:14,511 : INFO : EPOCH 12 - PROGRESS: at 19.84% examples, 1623287 words/s, in_qsize 15, out_qsize 1\n",
      "2019-03-12 14:01:15,511 : INFO : EPOCH 12 - PROGRESS: at 40.19% examples, 1648782 words/s, in_qsize 15, out_qsize 2\n",
      "2019-03-12 14:01:16,514 : INFO : EPOCH 12 - PROGRESS: at 60.96% examples, 1665946 words/s, in_qsize 16, out_qsize 0\n",
      "2019-03-12 14:01:17,514 : INFO : EPOCH 12 - PROGRESS: at 81.56% examples, 1672307 words/s, in_qsize 15, out_qsize 2\n",
      "2019-03-12 14:01:18,348 : INFO : worker thread finished; awaiting finish of 7 more threads\n",
      "2019-03-12 14:01:18,350 : INFO : worker thread finished; awaiting finish of 6 more threads\n",
      "2019-03-12 14:01:18,351 : INFO : worker thread finished; awaiting finish of 5 more threads\n",
      "2019-03-12 14:01:18,352 : INFO : worker thread finished; awaiting finish of 4 more threads\n",
      "2019-03-12 14:01:18,354 : INFO : worker thread finished; awaiting finish of 3 more threads\n",
      "2019-03-12 14:01:18,360 : INFO : worker thread finished; awaiting finish of 2 more threads\n",
      "2019-03-12 14:01:18,362 : INFO : worker thread finished; awaiting finish of 1 more threads\n",
      "2019-03-12 14:01:18,364 : INFO : worker thread finished; awaiting finish of 0 more threads\n",
      "2019-03-12 14:01:18,365 : INFO : EPOCH - 12 : training on 9227203 raw words (8222323 effective words) took 4.9s, 1691097 effective words/s\n",
      "2019-03-12 14:01:19,372 : INFO : EPOCH 13 - PROGRESS: at 19.84% examples, 1625771 words/s, in_qsize 16, out_qsize 0\n",
      "2019-03-12 14:01:20,387 : INFO : EPOCH 13 - PROGRESS: at 40.19% examples, 1643518 words/s, in_qsize 15, out_qsize 3\n",
      "2019-03-12 14:01:21,393 : INFO : EPOCH 13 - PROGRESS: at 60.74% examples, 1656392 words/s, in_qsize 16, out_qsize 2\n"
     ]
    },
    {
     "name": "stderr",
     "output_type": "stream",
     "text": [
      "2019-03-12 14:01:22,389 : INFO : EPOCH 13 - PROGRESS: at 81.55% examples, 1669546 words/s, in_qsize 16, out_qsize 1\n",
      "2019-03-12 14:01:23,241 : INFO : worker thread finished; awaiting finish of 7 more threads\n",
      "2019-03-12 14:01:23,243 : INFO : worker thread finished; awaiting finish of 6 more threads\n",
      "2019-03-12 14:01:23,244 : INFO : worker thread finished; awaiting finish of 5 more threads\n",
      "2019-03-12 14:01:23,245 : INFO : worker thread finished; awaiting finish of 4 more threads\n",
      "2019-03-12 14:01:23,254 : INFO : worker thread finished; awaiting finish of 3 more threads\n",
      "2019-03-12 14:01:23,255 : INFO : worker thread finished; awaiting finish of 2 more threads\n",
      "2019-03-12 14:01:23,257 : INFO : worker thread finished; awaiting finish of 1 more threads\n",
      "2019-03-12 14:01:23,258 : INFO : worker thread finished; awaiting finish of 0 more threads\n",
      "2019-03-12 14:01:23,260 : INFO : EPOCH - 13 : training on 9227203 raw words (8222528 effective words) took 4.9s, 1681631 effective words/s\n",
      "2019-03-12 14:01:24,268 : INFO : EPOCH 14 - PROGRESS: at 19.51% examples, 1600473 words/s, in_qsize 16, out_qsize 0\n",
      "2019-03-12 14:01:25,277 : INFO : EPOCH 14 - PROGRESS: at 40.29% examples, 1648793 words/s, in_qsize 16, out_qsize 1\n",
      "2019-03-12 14:01:26,278 : INFO : EPOCH 14 - PROGRESS: at 60.85% examples, 1662845 words/s, in_qsize 16, out_qsize 0\n",
      "2019-03-12 14:01:27,285 : INFO : EPOCH 14 - PROGRESS: at 81.34% examples, 1664720 words/s, in_qsize 16, out_qsize 0\n",
      "2019-03-12 14:01:28,130 : INFO : worker thread finished; awaiting finish of 7 more threads\n",
      "2019-03-12 14:01:28,132 : INFO : worker thread finished; awaiting finish of 6 more threads\n",
      "2019-03-12 14:01:28,133 : INFO : worker thread finished; awaiting finish of 5 more threads\n",
      "2019-03-12 14:01:28,135 : INFO : worker thread finished; awaiting finish of 4 more threads\n",
      "2019-03-12 14:01:28,136 : INFO : worker thread finished; awaiting finish of 3 more threads\n",
      "2019-03-12 14:01:28,138 : INFO : worker thread finished; awaiting finish of 2 more threads\n",
      "2019-03-12 14:01:28,141 : INFO : worker thread finished; awaiting finish of 1 more threads\n",
      "2019-03-12 14:01:28,146 : INFO : worker thread finished; awaiting finish of 0 more threads\n",
      "2019-03-12 14:01:28,147 : INFO : EPOCH - 14 : training on 9227203 raw words (8222275 effective words) took 4.9s, 1684708 effective words/s\n",
      "2019-03-12 14:01:29,157 : INFO : EPOCH 15 - PROGRESS: at 19.84% examples, 1628217 words/s, in_qsize 14, out_qsize 2\n",
      "2019-03-12 14:01:30,160 : INFO : EPOCH 15 - PROGRESS: at 40.51% examples, 1660702 words/s, in_qsize 15, out_qsize 0\n",
      "2019-03-12 14:01:31,164 : INFO : EPOCH 15 - PROGRESS: at 60.96% examples, 1667580 words/s, in_qsize 15, out_qsize 0\n",
      "2019-03-12 14:01:32,174 : INFO : EPOCH 15 - PROGRESS: at 81.45% examples, 1666317 words/s, in_qsize 16, out_qsize 0\n",
      "2019-03-12 14:01:33,017 : INFO : worker thread finished; awaiting finish of 7 more threads\n",
      "2019-03-12 14:01:33,020 : INFO : worker thread finished; awaiting finish of 6 more threads\n",
      "2019-03-12 14:01:33,021 : INFO : worker thread finished; awaiting finish of 5 more threads\n",
      "2019-03-12 14:01:33,023 : INFO : worker thread finished; awaiting finish of 4 more threads\n",
      "2019-03-12 14:01:33,024 : INFO : worker thread finished; awaiting finish of 3 more threads\n",
      "2019-03-12 14:01:33,026 : INFO : worker thread finished; awaiting finish of 2 more threads\n",
      "2019-03-12 14:01:33,029 : INFO : worker thread finished; awaiting finish of 1 more threads\n",
      "2019-03-12 14:01:33,033 : INFO : worker thread finished; awaiting finish of 0 more threads\n",
      "2019-03-12 14:01:33,034 : INFO : EPOCH - 15 : training on 9227203 raw words (8222077 effective words) took 4.9s, 1684789 effective words/s\n",
      "2019-03-12 14:01:34,045 : INFO : EPOCH 16 - PROGRESS: at 19.84% examples, 1626280 words/s, in_qsize 14, out_qsize 0\n",
      "2019-03-12 14:01:35,047 : INFO : EPOCH 16 - PROGRESS: at 40.19% examples, 1649504 words/s, in_qsize 16, out_qsize 0\n",
      "2019-03-12 14:01:36,050 : INFO : EPOCH 16 - PROGRESS: at 60.85% examples, 1665287 words/s, in_qsize 14, out_qsize 0\n",
      "2019-03-12 14:01:37,075 : INFO : EPOCH 16 - PROGRESS: at 81.77% examples, 1672297 words/s, in_qsize 13, out_qsize 3\n",
      "2019-03-12 14:01:37,900 : INFO : worker thread finished; awaiting finish of 7 more threads\n",
      "2019-03-12 14:01:37,901 : INFO : worker thread finished; awaiting finish of 6 more threads\n",
      "2019-03-12 14:01:37,903 : INFO : worker thread finished; awaiting finish of 5 more threads\n",
      "2019-03-12 14:01:37,905 : INFO : worker thread finished; awaiting finish of 4 more threads\n",
      "2019-03-12 14:01:37,910 : INFO : worker thread finished; awaiting finish of 3 more threads\n",
      "2019-03-12 14:01:37,914 : INFO : worker thread finished; awaiting finish of 2 more threads\n",
      "2019-03-12 14:01:37,915 : INFO : worker thread finished; awaiting finish of 1 more threads\n",
      "2019-03-12 14:01:37,916 : INFO : worker thread finished; awaiting finish of 0 more threads\n",
      "2019-03-12 14:01:37,918 : INFO : EPOCH - 16 : training on 9227203 raw words (8222940 effective words) took 4.9s, 1687057 effective words/s\n",
      "2019-03-12 14:01:38,926 : INFO : EPOCH 17 - PROGRESS: at 19.51% examples, 1599283 words/s, in_qsize 13, out_qsize 0\n",
      "2019-03-12 14:01:39,933 : INFO : EPOCH 17 - PROGRESS: at 40.19% examples, 1644451 words/s, in_qsize 15, out_qsize 0\n",
      "2019-03-12 14:01:40,937 : INFO : EPOCH 17 - PROGRESS: at 60.53% examples, 1652735 words/s, in_qsize 15, out_qsize 1\n",
      "2019-03-12 14:01:41,939 : INFO : EPOCH 17 - PROGRESS: at 80.57% examples, 1651066 words/s, in_qsize 16, out_qsize 0\n",
      "2019-03-12 14:01:42,815 : INFO : worker thread finished; awaiting finish of 7 more threads\n",
      "2019-03-12 14:01:42,817 : INFO : worker thread finished; awaiting finish of 6 more threads\n",
      "2019-03-12 14:01:42,818 : INFO : worker thread finished; awaiting finish of 5 more threads\n",
      "2019-03-12 14:01:42,823 : INFO : worker thread finished; awaiting finish of 4 more threads\n",
      "2019-03-12 14:01:42,824 : INFO : worker thread finished; awaiting finish of 3 more threads\n",
      "2019-03-12 14:01:42,826 : INFO : worker thread finished; awaiting finish of 2 more threads\n",
      "2019-03-12 14:01:42,831 : INFO : worker thread finished; awaiting finish of 1 more threads\n",
      "2019-03-12 14:01:42,832 : INFO : worker thread finished; awaiting finish of 0 more threads\n",
      "2019-03-12 14:01:42,833 : INFO : EPOCH - 17 : training on 9227203 raw words (8223431 effective words) took 4.9s, 1674988 effective words/s\n",
      "2019-03-12 14:01:43,847 : INFO : EPOCH 18 - PROGRESS: at 19.84% examples, 1617321 words/s, in_qsize 15, out_qsize 0\n",
      "2019-03-12 14:01:44,850 : INFO : EPOCH 18 - PROGRESS: at 40.30% examples, 1648341 words/s, in_qsize 16, out_qsize 0\n",
      "2019-03-12 14:01:45,860 : INFO : EPOCH 18 - PROGRESS: at 60.85% examples, 1659383 words/s, in_qsize 15, out_qsize 0\n",
      "2019-03-12 14:01:46,864 : INFO : EPOCH 18 - PROGRESS: at 81.12% examples, 1658246 words/s, in_qsize 16, out_qsize 0\n",
      "2019-03-12 14:01:47,725 : INFO : worker thread finished; awaiting finish of 7 more threads\n",
      "2019-03-12 14:01:47,727 : INFO : worker thread finished; awaiting finish of 6 more threads\n",
      "2019-03-12 14:01:47,728 : INFO : worker thread finished; awaiting finish of 5 more threads\n",
      "2019-03-12 14:01:47,729 : INFO : worker thread finished; awaiting finish of 4 more threads\n",
      "2019-03-12 14:01:47,730 : INFO : worker thread finished; awaiting finish of 3 more threads\n",
      "2019-03-12 14:01:47,732 : INFO : worker thread finished; awaiting finish of 2 more threads\n",
      "2019-03-12 14:01:47,736 : INFO : worker thread finished; awaiting finish of 1 more threads\n",
      "2019-03-12 14:01:47,740 : INFO : worker thread finished; awaiting finish of 0 more threads\n",
      "2019-03-12 14:01:47,741 : INFO : EPOCH - 18 : training on 9227203 raw words (8221199 effective words) took 4.9s, 1677138 effective words/s\n",
      "2019-03-12 14:01:48,752 : INFO : EPOCH 19 - PROGRESS: at 19.30% examples, 1579435 words/s, in_qsize 16, out_qsize 0\n",
      "2019-03-12 14:01:49,754 : INFO : EPOCH 19 - PROGRESS: at 39.86% examples, 1632977 words/s, in_qsize 15, out_qsize 1\n",
      "2019-03-12 14:01:50,761 : INFO : EPOCH 19 - PROGRESS: at 60.41% examples, 1651675 words/s, in_qsize 15, out_qsize 0\n",
      "2019-03-12 14:01:51,761 : INFO : EPOCH 19 - PROGRESS: at 80.35% examples, 1647024 words/s, in_qsize 15, out_qsize 0\n",
      "2019-03-12 14:01:52,671 : INFO : worker thread finished; awaiting finish of 7 more threads\n"
     ]
    },
    {
     "name": "stderr",
     "output_type": "stream",
     "text": [
      "2019-03-12 14:01:52,673 : INFO : worker thread finished; awaiting finish of 6 more threads\n",
      "2019-03-12 14:01:52,674 : INFO : worker thread finished; awaiting finish of 5 more threads\n",
      "2019-03-12 14:01:52,675 : INFO : worker thread finished; awaiting finish of 4 more threads\n",
      "2019-03-12 14:01:52,678 : INFO : worker thread finished; awaiting finish of 3 more threads\n",
      "2019-03-12 14:01:52,680 : INFO : worker thread finished; awaiting finish of 2 more threads\n",
      "2019-03-12 14:01:52,681 : INFO : worker thread finished; awaiting finish of 1 more threads\n",
      "2019-03-12 14:01:52,688 : INFO : worker thread finished; awaiting finish of 0 more threads\n",
      "2019-03-12 14:01:52,689 : INFO : EPOCH - 19 : training on 9227203 raw words (8222996 effective words) took 4.9s, 1663799 effective words/s\n",
      "2019-03-12 14:01:53,701 : INFO : EPOCH 20 - PROGRESS: at 19.30% examples, 1575607 words/s, in_qsize 16, out_qsize 0\n",
      "2019-03-12 14:01:54,707 : INFO : EPOCH 20 - PROGRESS: at 39.97% examples, 1637037 words/s, in_qsize 14, out_qsize 2\n",
      "2019-03-12 14:01:55,711 : INFO : EPOCH 20 - PROGRESS: at 60.74% examples, 1656771 words/s, in_qsize 15, out_qsize 1\n",
      "2019-03-12 14:01:56,715 : INFO : EPOCH 20 - PROGRESS: at 80.90% examples, 1655242 words/s, in_qsize 16, out_qsize 1\n",
      "2019-03-12 14:01:57,598 : INFO : worker thread finished; awaiting finish of 7 more threads\n",
      "2019-03-12 14:01:57,600 : INFO : worker thread finished; awaiting finish of 6 more threads\n",
      "2019-03-12 14:01:57,602 : INFO : worker thread finished; awaiting finish of 5 more threads\n",
      "2019-03-12 14:01:57,603 : INFO : worker thread finished; awaiting finish of 4 more threads\n",
      "2019-03-12 14:01:57,605 : INFO : worker thread finished; awaiting finish of 3 more threads\n",
      "2019-03-12 14:01:57,610 : INFO : worker thread finished; awaiting finish of 2 more threads\n",
      "2019-03-12 14:01:57,612 : INFO : worker thread finished; awaiting finish of 1 more threads\n",
      "2019-03-12 14:01:57,614 : INFO : worker thread finished; awaiting finish of 0 more threads\n",
      "2019-03-12 14:01:57,615 : INFO : EPOCH - 20 : training on 9227203 raw words (8222291 effective words) took 4.9s, 1670810 effective words/s\n",
      "2019-03-12 14:01:58,632 : INFO : EPOCH 21 - PROGRESS: at 19.52% examples, 1589939 words/s, in_qsize 12, out_qsize 2\n",
      "2019-03-12 14:01:59,636 : INFO : EPOCH 21 - PROGRESS: at 40.08% examples, 1640603 words/s, in_qsize 15, out_qsize 1\n",
      "2019-03-12 14:02:00,634 : INFO : EPOCH 21 - PROGRESS: at 60.52% examples, 1654867 words/s, in_qsize 15, out_qsize 0\n",
      "2019-03-12 14:02:01,635 : INFO : EPOCH 21 - PROGRESS: at 81.12% examples, 1663616 words/s, in_qsize 16, out_qsize 0\n",
      "2019-03-12 14:02:02,494 : INFO : worker thread finished; awaiting finish of 7 more threads\n",
      "2019-03-12 14:02:02,495 : INFO : worker thread finished; awaiting finish of 6 more threads\n",
      "2019-03-12 14:02:02,497 : INFO : worker thread finished; awaiting finish of 5 more threads\n",
      "2019-03-12 14:02:02,498 : INFO : worker thread finished; awaiting finish of 4 more threads\n",
      "2019-03-12 14:02:02,500 : INFO : worker thread finished; awaiting finish of 3 more threads\n",
      "2019-03-12 14:02:02,501 : INFO : worker thread finished; awaiting finish of 2 more threads\n",
      "2019-03-12 14:02:02,508 : INFO : worker thread finished; awaiting finish of 1 more threads\n",
      "2019-03-12 14:02:02,511 : INFO : worker thread finished; awaiting finish of 0 more threads\n",
      "2019-03-12 14:02:02,513 : INFO : EPOCH - 21 : training on 9227203 raw words (8222706 effective words) took 4.9s, 1681954 effective words/s\n",
      "2019-03-12 14:02:03,529 : INFO : EPOCH 22 - PROGRESS: at 19.84% examples, 1619883 words/s, in_qsize 15, out_qsize 0\n",
      "2019-03-12 14:02:04,532 : INFO : EPOCH 22 - PROGRESS: at 40.19% examples, 1642754 words/s, in_qsize 16, out_qsize 1\n",
      "2019-03-12 14:02:05,532 : INFO : EPOCH 22 - PROGRESS: at 60.41% examples, 1650493 words/s, in_qsize 16, out_qsize 2\n",
      "2019-03-12 14:02:06,544 : INFO : EPOCH 22 - PROGRESS: at 80.58% examples, 1648182 words/s, in_qsize 15, out_qsize 1\n",
      "2019-03-12 14:02:07,422 : INFO : worker thread finished; awaiting finish of 7 more threads\n",
      "2019-03-12 14:02:07,423 : INFO : worker thread finished; awaiting finish of 6 more threads\n",
      "2019-03-12 14:02:07,425 : INFO : worker thread finished; awaiting finish of 5 more threads\n",
      "2019-03-12 14:02:07,426 : INFO : worker thread finished; awaiting finish of 4 more threads\n",
      "2019-03-12 14:02:07,430 : INFO : worker thread finished; awaiting finish of 3 more threads\n",
      "2019-03-12 14:02:07,432 : INFO : worker thread finished; awaiting finish of 2 more threads\n",
      "2019-03-12 14:02:07,436 : INFO : worker thread finished; awaiting finish of 1 more threads\n",
      "2019-03-12 14:02:07,438 : INFO : worker thread finished; awaiting finish of 0 more threads\n",
      "2019-03-12 14:02:07,439 : INFO : EPOCH - 22 : training on 9227203 raw words (8222270 effective words) took 4.9s, 1671518 effective words/s\n",
      "2019-03-12 14:02:08,453 : INFO : EPOCH 23 - PROGRESS: at 19.84% examples, 1620313 words/s, in_qsize 15, out_qsize 0\n",
      "2019-03-12 14:02:09,449 : INFO : EPOCH 23 - PROGRESS: at 39.97% examples, 1638085 words/s, in_qsize 14, out_qsize 1\n",
      "2019-03-12 14:02:10,452 : INFO : EPOCH 23 - PROGRESS: at 60.41% examples, 1651589 words/s, in_qsize 15, out_qsize 0\n",
      "2019-03-12 14:02:11,453 : INFO : EPOCH 23 - PROGRESS: at 80.80% examples, 1656559 words/s, in_qsize 15, out_qsize 0\n",
      "2019-03-12 14:02:12,328 : INFO : worker thread finished; awaiting finish of 7 more threads\n",
      "2019-03-12 14:02:12,329 : INFO : worker thread finished; awaiting finish of 6 more threads\n",
      "2019-03-12 14:02:12,331 : INFO : worker thread finished; awaiting finish of 5 more threads\n",
      "2019-03-12 14:02:12,332 : INFO : worker thread finished; awaiting finish of 4 more threads\n",
      "2019-03-12 14:02:12,335 : INFO : worker thread finished; awaiting finish of 3 more threads\n",
      "2019-03-12 14:02:12,338 : INFO : worker thread finished; awaiting finish of 2 more threads\n",
      "2019-03-12 14:02:12,339 : INFO : worker thread finished; awaiting finish of 1 more threads\n",
      "2019-03-12 14:02:12,343 : INFO : worker thread finished; awaiting finish of 0 more threads\n",
      "2019-03-12 14:02:12,344 : INFO : EPOCH - 23 : training on 9227203 raw words (8222334 effective words) took 4.9s, 1677274 effective words/s\n",
      "2019-03-12 14:02:13,354 : INFO : EPOCH 24 - PROGRESS: at 19.62% examples, 1602025 words/s, in_qsize 16, out_qsize 1\n",
      "2019-03-12 14:02:14,365 : INFO : EPOCH 24 - PROGRESS: at 40.51% examples, 1651399 words/s, in_qsize 15, out_qsize 0\n",
      "2019-03-12 14:02:15,370 : INFO : EPOCH 24 - PROGRESS: at 60.85% examples, 1657074 words/s, in_qsize 16, out_qsize 0\n",
      "2019-03-12 14:02:16,373 : INFO : EPOCH 24 - PROGRESS: at 81.56% examples, 1668108 words/s, in_qsize 15, out_qsize 0\n",
      "2019-03-12 14:02:17,207 : INFO : worker thread finished; awaiting finish of 7 more threads\n",
      "2019-03-12 14:02:17,209 : INFO : worker thread finished; awaiting finish of 6 more threads\n",
      "2019-03-12 14:02:17,210 : INFO : worker thread finished; awaiting finish of 5 more threads\n",
      "2019-03-12 14:02:17,213 : INFO : worker thread finished; awaiting finish of 4 more threads\n",
      "2019-03-12 14:02:17,214 : INFO : worker thread finished; awaiting finish of 3 more threads\n",
      "2019-03-12 14:02:17,215 : INFO : worker thread finished; awaiting finish of 2 more threads\n",
      "2019-03-12 14:02:17,227 : INFO : worker thread finished; awaiting finish of 1 more threads\n",
      "2019-03-12 14:02:17,228 : INFO : worker thread finished; awaiting finish of 0 more threads\n",
      "2019-03-12 14:02:17,229 : INFO : EPOCH - 24 : training on 9227203 raw words (8223615 effective words) took 4.9s, 1684557 effective words/s\n",
      "2019-03-12 14:02:18,241 : INFO : EPOCH 25 - PROGRESS: at 19.30% examples, 1579456 words/s, in_qsize 15, out_qsize 0\n",
      "2019-03-12 14:02:19,241 : INFO : EPOCH 25 - PROGRESS: at 39.97% examples, 1640301 words/s, in_qsize 16, out_qsize 0\n",
      "2019-03-12 14:02:20,245 : INFO : EPOCH 25 - PROGRESS: at 60.63% examples, 1658992 words/s, in_qsize 15, out_qsize 0\n",
      "2019-03-12 14:02:21,249 : INFO : EPOCH 25 - PROGRESS: at 81.12% examples, 1663495 words/s, in_qsize 16, out_qsize 0\n",
      "2019-03-12 14:02:22,119 : INFO : worker thread finished; awaiting finish of 7 more threads\n",
      "2019-03-12 14:02:22,121 : INFO : worker thread finished; awaiting finish of 6 more threads\n",
      "2019-03-12 14:02:22,122 : INFO : worker thread finished; awaiting finish of 5 more threads\n",
      "2019-03-12 14:02:22,123 : INFO : worker thread finished; awaiting finish of 4 more threads\n"
     ]
    },
    {
     "name": "stderr",
     "output_type": "stream",
     "text": [
      "2019-03-12 14:02:22,126 : INFO : worker thread finished; awaiting finish of 3 more threads\n",
      "2019-03-12 14:02:22,129 : INFO : worker thread finished; awaiting finish of 2 more threads\n",
      "2019-03-12 14:02:22,134 : INFO : worker thread finished; awaiting finish of 1 more threads\n",
      "2019-03-12 14:02:22,135 : INFO : worker thread finished; awaiting finish of 0 more threads\n",
      "2019-03-12 14:02:22,136 : INFO : EPOCH - 25 : training on 9227203 raw words (8223001 effective words) took 4.9s, 1678516 effective words/s\n",
      "2019-03-12 14:02:23,151 : INFO : EPOCH 26 - PROGRESS: at 19.62% examples, 1604460 words/s, in_qsize 15, out_qsize 0\n",
      "2019-03-12 14:02:24,158 : INFO : EPOCH 26 - PROGRESS: at 39.97% examples, 1635849 words/s, in_qsize 16, out_qsize 0\n",
      "2019-03-12 14:02:25,164 : INFO : EPOCH 26 - PROGRESS: at 60.52% examples, 1652271 words/s, in_qsize 14, out_qsize 0\n",
      "2019-03-12 14:02:26,161 : INFO : EPOCH 26 - PROGRESS: at 80.58% examples, 1650692 words/s, in_qsize 15, out_qsize 0\n",
      "2019-03-12 14:02:27,054 : INFO : worker thread finished; awaiting finish of 7 more threads\n",
      "2019-03-12 14:02:27,056 : INFO : worker thread finished; awaiting finish of 6 more threads\n",
      "2019-03-12 14:02:27,057 : INFO : worker thread finished; awaiting finish of 5 more threads\n",
      "2019-03-12 14:02:27,058 : INFO : worker thread finished; awaiting finish of 4 more threads\n",
      "2019-03-12 14:02:27,063 : INFO : worker thread finished; awaiting finish of 3 more threads\n",
      "2019-03-12 14:02:27,065 : INFO : worker thread finished; awaiting finish of 2 more threads\n",
      "2019-03-12 14:02:27,066 : INFO : worker thread finished; awaiting finish of 1 more threads\n",
      "2019-03-12 14:02:27,071 : INFO : worker thread finished; awaiting finish of 0 more threads\n",
      "2019-03-12 14:02:27,073 : INFO : EPOCH - 26 : training on 9227203 raw words (8223716 effective words) took 4.9s, 1669198 effective words/s\n",
      "2019-03-12 14:02:28,089 : INFO : EPOCH 27 - PROGRESS: at 19.62% examples, 1600120 words/s, in_qsize 15, out_qsize 0\n",
      "2019-03-12 14:02:29,093 : INFO : EPOCH 27 - PROGRESS: at 39.75% examples, 1625156 words/s, in_qsize 15, out_qsize 0\n",
      "2019-03-12 14:02:30,094 : INFO : EPOCH 27 - PROGRESS: at 60.41% examples, 1649716 words/s, in_qsize 14, out_qsize 1\n",
      "2019-03-12 14:02:31,106 : INFO : EPOCH 27 - PROGRESS: at 81.12% examples, 1659666 words/s, in_qsize 16, out_qsize 2\n",
      "2019-03-12 14:02:31,948 : INFO : worker thread finished; awaiting finish of 7 more threads\n",
      "2019-03-12 14:02:31,949 : INFO : worker thread finished; awaiting finish of 6 more threads\n",
      "2019-03-12 14:02:31,951 : INFO : worker thread finished; awaiting finish of 5 more threads\n",
      "2019-03-12 14:02:31,953 : INFO : worker thread finished; awaiting finish of 4 more threads\n",
      "2019-03-12 14:02:31,954 : INFO : worker thread finished; awaiting finish of 3 more threads\n",
      "2019-03-12 14:02:31,957 : INFO : worker thread finished; awaiting finish of 2 more threads\n",
      "2019-03-12 14:02:31,962 : INFO : worker thread finished; awaiting finish of 1 more threads\n",
      "2019-03-12 14:02:31,964 : INFO : worker thread finished; awaiting finish of 0 more threads\n",
      "2019-03-12 14:02:31,965 : INFO : EPOCH - 27 : training on 9227203 raw words (8222602 effective words) took 4.9s, 1683755 effective words/s\n",
      "2019-03-12 14:02:32,979 : INFO : EPOCH 28 - PROGRESS: at 19.62% examples, 1600004 words/s, in_qsize 15, out_qsize 0\n",
      "2019-03-12 14:02:33,984 : INFO : EPOCH 28 - PROGRESS: at 40.19% examples, 1644488 words/s, in_qsize 15, out_qsize 0\n",
      "2019-03-12 14:02:34,988 : INFO : EPOCH 28 - PROGRESS: at 60.95% examples, 1664625 words/s, in_qsize 15, out_qsize 0\n",
      "2019-03-12 14:02:35,998 : INFO : EPOCH 28 - PROGRESS: at 81.45% examples, 1667611 words/s, in_qsize 16, out_qsize 3\n",
      "2019-03-12 14:02:36,827 : INFO : worker thread finished; awaiting finish of 7 more threads\n",
      "2019-03-12 14:02:36,829 : INFO : worker thread finished; awaiting finish of 6 more threads\n",
      "2019-03-12 14:02:36,830 : INFO : worker thread finished; awaiting finish of 5 more threads\n",
      "2019-03-12 14:02:36,831 : INFO : worker thread finished; awaiting finish of 4 more threads\n",
      "2019-03-12 14:02:36,834 : INFO : worker thread finished; awaiting finish of 3 more threads\n",
      "2019-03-12 14:02:36,835 : INFO : worker thread finished; awaiting finish of 2 more threads\n",
      "2019-03-12 14:02:36,842 : INFO : worker thread finished; awaiting finish of 1 more threads\n",
      "2019-03-12 14:02:36,843 : INFO : worker thread finished; awaiting finish of 0 more threads\n",
      "2019-03-12 14:02:36,845 : INFO : EPOCH - 28 : training on 9227203 raw words (8223150 effective words) took 4.9s, 1687486 effective words/s\n",
      "2019-03-12 14:02:37,857 : INFO : EPOCH 29 - PROGRESS: at 19.30% examples, 1569633 words/s, in_qsize 16, out_qsize 2\n",
      "2019-03-12 14:02:38,861 : INFO : EPOCH 29 - PROGRESS: at 40.08% examples, 1639351 words/s, in_qsize 15, out_qsize 0\n",
      "2019-03-12 14:02:39,860 : INFO : EPOCH 29 - PROGRESS: at 60.42% examples, 1649875 words/s, in_qsize 16, out_qsize 0\n",
      "2019-03-12 14:02:40,869 : INFO : EPOCH 29 - PROGRESS: at 80.91% examples, 1654653 words/s, in_qsize 16, out_qsize 1\n",
      "2019-03-12 14:02:41,746 : INFO : worker thread finished; awaiting finish of 7 more threads\n",
      "2019-03-12 14:02:41,748 : INFO : worker thread finished; awaiting finish of 6 more threads\n",
      "2019-03-12 14:02:41,749 : INFO : worker thread finished; awaiting finish of 5 more threads\n",
      "2019-03-12 14:02:41,751 : INFO : worker thread finished; awaiting finish of 4 more threads\n",
      "2019-03-12 14:02:41,752 : INFO : worker thread finished; awaiting finish of 3 more threads\n",
      "2019-03-12 14:02:41,756 : INFO : worker thread finished; awaiting finish of 2 more threads\n",
      "2019-03-12 14:02:41,758 : INFO : worker thread finished; awaiting finish of 1 more threads\n",
      "2019-03-12 14:02:41,764 : INFO : worker thread finished; awaiting finish of 0 more threads\n",
      "2019-03-12 14:02:41,766 : INFO : EPOCH - 29 : training on 9227203 raw words (8222360 effective words) took 4.9s, 1671680 effective words/s\n",
      "2019-03-12 14:02:42,773 : INFO : EPOCH 30 - PROGRESS: at 19.30% examples, 1583649 words/s, in_qsize 14, out_qsize 2\n",
      "2019-03-12 14:02:43,773 : INFO : EPOCH 30 - PROGRESS: at 39.97% examples, 1639774 words/s, in_qsize 16, out_qsize 0\n",
      "2019-03-12 14:02:44,782 : INFO : EPOCH 30 - PROGRESS: at 60.41% examples, 1649796 words/s, in_qsize 15, out_qsize 0\n",
      "2019-03-12 14:02:45,786 : INFO : EPOCH 30 - PROGRESS: at 80.90% examples, 1656301 words/s, in_qsize 15, out_qsize 1\n",
      "2019-03-12 14:02:46,664 : INFO : worker thread finished; awaiting finish of 7 more threads\n",
      "2019-03-12 14:02:46,665 : INFO : worker thread finished; awaiting finish of 6 more threads\n",
      "2019-03-12 14:02:46,667 : INFO : worker thread finished; awaiting finish of 5 more threads\n",
      "2019-03-12 14:02:46,668 : INFO : worker thread finished; awaiting finish of 4 more threads\n",
      "2019-03-12 14:02:46,670 : INFO : worker thread finished; awaiting finish of 3 more threads\n",
      "2019-03-12 14:02:46,674 : INFO : worker thread finished; awaiting finish of 2 more threads\n",
      "2019-03-12 14:02:46,679 : INFO : worker thread finished; awaiting finish of 1 more threads\n",
      "2019-03-12 14:02:46,683 : INFO : worker thread finished; awaiting finish of 0 more threads\n",
      "2019-03-12 14:02:46,684 : INFO : EPOCH - 30 : training on 9227203 raw words (8222253 effective words) took 4.9s, 1672585 effective words/s\n",
      "2019-03-12 14:02:47,699 : INFO : EPOCH 31 - PROGRESS: at 19.51% examples, 1593086 words/s, in_qsize 16, out_qsize 0\n",
      "2019-03-12 14:02:48,701 : INFO : EPOCH 31 - PROGRESS: at 39.97% examples, 1636192 words/s, in_qsize 15, out_qsize 1\n",
      "2019-03-12 14:02:49,703 : INFO : EPOCH 31 - PROGRESS: at 60.52% examples, 1653821 words/s, in_qsize 15, out_qsize 0\n",
      "2019-03-12 14:02:50,709 : INFO : EPOCH 31 - PROGRESS: at 81.23% examples, 1665044 words/s, in_qsize 15, out_qsize 0\n",
      "2019-03-12 14:02:51,558 : INFO : worker thread finished; awaiting finish of 7 more threads\n",
      "2019-03-12 14:02:51,559 : INFO : worker thread finished; awaiting finish of 6 more threads\n",
      "2019-03-12 14:02:51,560 : INFO : worker thread finished; awaiting finish of 5 more threads\n",
      "2019-03-12 14:02:51,562 : INFO : worker thread finished; awaiting finish of 4 more threads\n",
      "2019-03-12 14:02:51,564 : INFO : worker thread finished; awaiting finish of 3 more threads\n",
      "2019-03-12 14:02:51,570 : INFO : worker thread finished; awaiting finish of 2 more threads\n",
      "2019-03-12 14:02:51,572 : INFO : worker thread finished; awaiting finish of 1 more threads\n"
     ]
    },
    {
     "name": "stderr",
     "output_type": "stream",
     "text": [
      "2019-03-12 14:02:51,574 : INFO : worker thread finished; awaiting finish of 0 more threads\n",
      "2019-03-12 14:02:51,575 : INFO : EPOCH - 31 : training on 9227203 raw words (8222615 effective words) took 4.9s, 1683860 effective words/s\n",
      "2019-03-12 14:02:52,589 : INFO : EPOCH 32 - PROGRESS: at 19.40% examples, 1593014 words/s, in_qsize 14, out_qsize 0\n",
      "2019-03-12 14:02:53,590 : INFO : EPOCH 32 - PROGRESS: at 40.08% examples, 1642523 words/s, in_qsize 16, out_qsize 0\n",
      "2019-03-12 14:02:54,594 : INFO : EPOCH 32 - PROGRESS: at 60.63% examples, 1658534 words/s, in_qsize 15, out_qsize 0\n",
      "2019-03-12 14:02:55,593 : INFO : EPOCH 32 - PROGRESS: at 81.34% examples, 1668569 words/s, in_qsize 15, out_qsize 0\n",
      "2019-03-12 14:02:56,461 : INFO : worker thread finished; awaiting finish of 7 more threads\n",
      "2019-03-12 14:02:56,462 : INFO : worker thread finished; awaiting finish of 6 more threads\n",
      "2019-03-12 14:02:56,464 : INFO : worker thread finished; awaiting finish of 5 more threads\n",
      "2019-03-12 14:02:56,465 : INFO : worker thread finished; awaiting finish of 4 more threads\n",
      "2019-03-12 14:02:56,466 : INFO : worker thread finished; awaiting finish of 3 more threads\n",
      "2019-03-12 14:02:56,468 : INFO : worker thread finished; awaiting finish of 2 more threads\n",
      "2019-03-12 14:02:56,476 : INFO : worker thread finished; awaiting finish of 1 more threads\n",
      "2019-03-12 14:02:56,479 : INFO : worker thread finished; awaiting finish of 0 more threads\n",
      "2019-03-12 14:02:56,480 : INFO : EPOCH - 32 : training on 9227203 raw words (8221481 effective words) took 4.9s, 1679040 effective words/s\n",
      "2019-03-12 14:02:56,482 : INFO : training on a 295270496 raw words (263123509 effective words) took 157.0s, 1676265 effective words/s\n"
     ]
    },
    {
     "name": "stdout",
     "output_type": "stream",
     "text": [
      "CPU times: user 11min 44s, sys: 8.76 s, total: 11min 53s\n",
      "Wall time: 2min 36s\n"
     ]
    },
    {
     "data": {
      "text/plain": [
       "(263123509, 295270496)"
      ]
     },
     "execution_count": 21,
     "metadata": {},
     "output_type": "execute_result"
    }
   ],
   "source": [
    "%%time\n",
    "w2v_model.train(documents, total_examples=len(documents), epochs=W2V_EPOCH)\n"
   ]
  },
  {
   "cell_type": "code",
   "execution_count": 22,
   "metadata": {
    "_uuid": "27cc2651c74227115d8bfd8c40e5618048e05edd"
   },
   "outputs": [
    {
     "name": "stderr",
     "output_type": "stream",
     "text": [
      "/home/aqz/anaconda2/lib/python2.7/site-packages/ipykernel_launcher.py:1: DeprecationWarning: Call to deprecated `most_similar` (Method will be removed in 4.0.0, use self.wv.most_similar() instead).\n",
      "  \"\"\"Entry point for launching an IPython kernel.\n",
      "2019-03-12 14:02:56,493 : INFO : precomputing L2-norms of word weight vectors\n"
     ]
    },
    {
     "data": {
      "text/plain": [
       "[('luv', 0.5722876787185669),\n",
       " ('loves', 0.5650951862335205),\n",
       " ('loved', 0.5347206592559814),\n",
       " ('adore', 0.5191938877105713),\n",
       " ('amazing', 0.5122210383415222),\n",
       " ('looove', 0.48154544830322266),\n",
       " ('awesome', 0.46200868487358093),\n",
       " ('lovee', 0.4488353133201599),\n",
       " ('loveee', 0.4456603527069092),\n",
       " ('loooove', 0.43627434968948364)]"
      ]
     },
     "execution_count": 22,
     "metadata": {},
     "output_type": "execute_result"
    }
   ],
   "source": [
    "w2v_model.most_similar(\"love\")"
   ]
  },
  {
   "cell_type": "markdown",
   "metadata": {
    "_uuid": "e13563644468037258598637b49373ca96b9b879"
   },
   "source": [
    "### Tokenize Text"
   ]
  },
  {
   "cell_type": "code",
   "execution_count": 23,
   "metadata": {
    "_uuid": "6852bc709a7cd20173cbeeb218505078f8f37c57"
   },
   "outputs": [
    {
     "name": "stdout",
     "output_type": "stream",
     "text": [
      "('Total words', 290418)\n",
      "CPU times: user 10.3 s, sys: 163 ms, total: 10.5 s\n",
      "Wall time: 10.2 s\n"
     ]
    }
   ],
   "source": [
    "%%time\n",
    "tokenizer = Tokenizer()\n",
    "tokenizer.fit_on_texts(df_train.text)\n",
    "\n",
    "vocab_size = len(tokenizer.word_index) + 1\n",
    "print(\"Total words\", vocab_size)"
   ]
  },
  {
   "cell_type": "code",
   "execution_count": 24,
   "metadata": {
    "_uuid": "45de439df3015030c71f84c2d170346936a1d68f"
   },
   "outputs": [
    {
     "name": "stdout",
     "output_type": "stream",
     "text": [
      "CPU times: user 10.1 s, sys: 315 ms, total: 10.4 s\n",
      "Wall time: 10.2 s\n"
     ]
    }
   ],
   "source": [
    "%%time\n",
    "x_train = pad_sequences(tokenizer.texts_to_sequences(df_train.text), maxlen=SEQUENCE_LENGTH)\n",
    "x_test = pad_sequences(tokenizer.texts_to_sequences(df_test.text), maxlen=SEQUENCE_LENGTH)"
   ]
  },
  {
   "cell_type": "markdown",
   "metadata": {
    "_uuid": "03b35903fc6260e190d6928d240ef7432de117fc"
   },
   "source": [
    "### Label Encoder "
   ]
  },
  {
   "cell_type": "code",
   "execution_count": 25,
   "metadata": {
    "_uuid": "33676e0efa39e97d89bd650b8b4eae933a22fbf0"
   },
   "outputs": [
    {
     "data": {
      "text/plain": [
       "['POSITIVE', 'NEGATIVE', 'NEUTRAL']"
      ]
     },
     "execution_count": 25,
     "metadata": {},
     "output_type": "execute_result"
    }
   ],
   "source": [
    "labels = df_train.target.unique().tolist()\n",
    "labels.append(NEUTRAL)\n",
    "labels"
   ]
  },
  {
   "cell_type": "code",
   "execution_count": 26,
   "metadata": {
    "_uuid": "04239a9bef76e7922fd86098a5601dfde8ee4665"
   },
   "outputs": [
    {
     "name": "stdout",
     "output_type": "stream",
     "text": [
      "('y_train', (1280000, 1))\n",
      "('y_test', (320000, 1))\n"
     ]
    }
   ],
   "source": [
    "encoder = LabelEncoder()\n",
    "encoder.fit(df_train.target.tolist())\n",
    "\n",
    "y_train = encoder.transform(df_train.target.tolist())\n",
    "y_test = encoder.transform(df_test.target.tolist())\n",
    "\n",
    "y_train = y_train.reshape(-1,1)\n",
    "y_test = y_test.reshape(-1,1)\n",
    "\n",
    "print(\"y_train\",y_train.shape)\n",
    "print(\"y_test\",y_test.shape)"
   ]
  },
  {
   "cell_type": "code",
   "execution_count": 27,
   "metadata": {
    "_uuid": "04299c886911ca135583ab64878f213939a2990c"
   },
   "outputs": [
    {
     "name": "stdout",
     "output_type": "stream",
     "text": [
      "('x_train', (1280000, 300))\n",
      "('y_train', (1280000, 1))\n",
      "()\n",
      "('x_test', (320000, 300))\n",
      "('y_test', (320000, 1))\n"
     ]
    }
   ],
   "source": [
    "print(\"x_train\", x_train.shape)\n",
    "print(\"y_train\", y_train.shape)\n",
    "print()\n",
    "print(\"x_test\", x_test.shape)\n",
    "print(\"y_test\", y_test.shape)"
   ]
  },
  {
   "cell_type": "code",
   "execution_count": 28,
   "metadata": {
    "_uuid": "232533fb27b7be99d9b8c2f8fb22c9c6bf121a6f",
    "scrolled": true
   },
   "outputs": [
    {
     "data": {
      "text/plain": [
       "array([[1],\n",
       "       [1],\n",
       "       [1],\n",
       "       [0],\n",
       "       [1],\n",
       "       [1],\n",
       "       [1],\n",
       "       [1],\n",
       "       [1],\n",
       "       [1]])"
      ]
     },
     "execution_count": 28,
     "metadata": {},
     "output_type": "execute_result"
    }
   ],
   "source": [
    "y_train[:10]"
   ]
  },
  {
   "cell_type": "code",
   "execution_count": 35,
   "metadata": {},
   "outputs": [],
   "source": [
    "import gc"
   ]
  },
  {
   "cell_type": "code",
   "execution_count": 36,
   "metadata": {},
   "outputs": [
    {
     "data": {
      "text/plain": [
       "195"
      ]
     },
     "execution_count": 36,
     "metadata": {},
     "output_type": "execute_result"
    }
   ],
   "source": [
    "gc.collect()"
   ]
  },
  {
   "cell_type": "markdown",
   "metadata": {
    "_uuid": "233c0ea94055a03e2e7df3e2a13d036ec963484f"
   },
   "source": [
    "### Embedding layer"
   ]
  },
  {
   "cell_type": "code",
   "execution_count": 37,
   "metadata": {
    "_uuid": "9ab488374b59e3f30f8b1ea92767d853c4846bac"
   },
   "outputs": [
    {
     "name": "stdout",
     "output_type": "stream",
     "text": [
      "(290418, 300)\n"
     ]
    }
   ],
   "source": [
    "embedding_matrix = np.zeros((vocab_size, W2V_SIZE))\n",
    "for word, i in tokenizer.word_index.items():\n",
    "    if word in w2v_model.wv:\n",
    "        embedding_matrix[i] = w2v_model.wv[word]\n",
    "print(embedding_matrix.shape)"
   ]
  },
  {
   "cell_type": "code",
   "execution_count": 38,
   "metadata": {
    "_uuid": "833279d91e4286065968237fb5f2a0c2dd4d246c"
   },
   "outputs": [],
   "source": [
    "embedding_layer = Embedding(vocab_size, W2V_SIZE, weights=[embedding_matrix], input_length=SEQUENCE_LENGTH, trainable=False)"
   ]
  },
  {
   "cell_type": "markdown",
   "metadata": {
    "_uuid": "b299ef78f94c2085942c993a2d58753a7476305a"
   },
   "source": [
    "### Build Model"
   ]
  },
  {
   "cell_type": "code",
   "execution_count": 39,
   "metadata": {
    "_uuid": "e775ef4f1b74e6412457181383c39f2df554ef3f"
   },
   "outputs": [
    {
     "name": "stdout",
     "output_type": "stream",
     "text": [
      "_________________________________________________________________\n",
      "Layer (type)                 Output Shape              Param #   \n",
      "=================================================================\n",
      "embedding_2 (Embedding)      (None, 300, 300)          87125400  \n",
      "_________________________________________________________________\n",
      "dropout_2 (Dropout)          (None, 300, 300)          0         \n",
      "_________________________________________________________________\n",
      "lstm_2 (LSTM)                (None, 100)               160400    \n",
      "_________________________________________________________________\n",
      "dense_2 (Dense)              (None, 1)                 101       \n",
      "=================================================================\n",
      "Total params: 87,285,901\n",
      "Trainable params: 160,501\n",
      "Non-trainable params: 87,125,400\n",
      "_________________________________________________________________\n"
     ]
    }
   ],
   "source": [
    "model = Sequential()\n",
    "model.add(embedding_layer)\n",
    "model.add(Dropout(0.5))\n",
    "model.add(LSTM(100, dropout=0.2, recurrent_dropout=0.2))\n",
    "model.add(Dense(1, activation='sigmoid'))\n",
    "\n",
    "model.summary()"
   ]
  },
  {
   "cell_type": "markdown",
   "metadata": {
    "_uuid": "28d22eafd0c7d798dcf3d742bc92fb8577939e6c"
   },
   "source": [
    "### Compile model"
   ]
  },
  {
   "cell_type": "code",
   "execution_count": 40,
   "metadata": {
    "_uuid": "1331e08d590bb2aa2033706c8faca217afc0f1c3"
   },
   "outputs": [],
   "source": [
    "model.compile(loss='binary_crossentropy',\n",
    "              optimizer=\"adam\",\n",
    "              metrics=['accuracy'])"
   ]
  },
  {
   "cell_type": "markdown",
   "metadata": {
    "_uuid": "c7733127cb8b380e0c807268903bf4d03ef92542"
   },
   "source": [
    "### Callbacks"
   ]
  },
  {
   "cell_type": "code",
   "execution_count": 41,
   "metadata": {
    "_uuid": "a688df590386f5748da6fe00b01904fe6c71619e"
   },
   "outputs": [],
   "source": [
    "callbacks = [ ReduceLROnPlateau(monitor='val_loss', patience=5, cooldown=0),\n",
    "              EarlyStopping(monitor='val_acc', min_delta=1e-4, patience=5)]"
   ]
  },
  {
   "cell_type": "markdown",
   "metadata": {
    "_uuid": "8d0873633dd49179c8cae17377641b97d323ef3b"
   },
   "source": [
    "### Train"
   ]
  },
  {
   "cell_type": "code",
   "execution_count": 42,
   "metadata": {
    "_uuid": "2b659d390c6577dc5cdb6b6297934279b4e801d5"
   },
   "outputs": [
    {
     "name": "stdout",
     "output_type": "stream",
     "text": [
      "Train on 1152000 samples, validate on 128000 samples\n",
      "Epoch 1/8\n",
      "1152000/1152000 [==============================] - 356s 309us/step - loss: 0.5050 - acc: 0.7494 - val_loss: 0.4647 - val_acc: 0.7798\n",
      "Epoch 2/8\n",
      "1152000/1152000 [==============================] - 357s 310us/step - loss: 0.4796 - acc: 0.7670 - val_loss: 0.4581 - val_acc: 0.7838\n",
      "Epoch 3/8\n",
      "1152000/1152000 [==============================] - 357s 310us/step - loss: 0.4741 - acc: 0.7706 - val_loss: 0.4552 - val_acc: 0.7859\n",
      "Epoch 4/8\n",
      "1152000/1152000 [==============================] - 357s 310us/step - loss: 0.4704 - acc: 0.7732 - val_loss: 0.4533 - val_acc: 0.7879\n",
      "Epoch 5/8\n",
      "1152000/1152000 [==============================] - 356s 309us/step - loss: 0.4680 - acc: 0.7744 - val_loss: 0.4514 - val_acc: 0.7881\n",
      "Epoch 6/8\n",
      "1152000/1152000 [==============================] - 357s 310us/step - loss: 0.4669 - acc: 0.7752 - val_loss: 0.4499 - val_acc: 0.7893\n",
      "Epoch 7/8\n",
      "1152000/1152000 [==============================] - 357s 310us/step - loss: 0.4655 - acc: 0.7757 - val_loss: 0.4482 - val_acc: 0.7897\n",
      "Epoch 8/8\n",
      "1152000/1152000 [==============================] - 357s 310us/step - loss: 0.4644 - acc: 0.7765 - val_loss: 0.4482 - val_acc: 0.7902\n",
      "CPU times: user 1h 7min 10s, sys: 3min 1s, total: 1h 10min 12s\n",
      "Wall time: 47min 34s\n"
     ]
    }
   ],
   "source": [
    "%%time\n",
    "history = model.fit(x_train, y_train,\n",
    "                    batch_size=BATCH_SIZE,\n",
    "                    epochs=EPOCHS,\n",
    "                    validation_split=0.1,\n",
    "                    verbose=1,\n",
    "                    callbacks=callbacks)"
   ]
  },
  {
   "cell_type": "markdown",
   "metadata": {
    "_uuid": "267258196d96796ac69a7b8c466314bcf5d6ee42"
   },
   "source": [
    "### Evaluate"
   ]
  },
  {
   "cell_type": "code",
   "execution_count": 43,
   "metadata": {
    "_uuid": "98ecd8f1b8b74594c3ea775dd68a094e92458022"
   },
   "outputs": [
    {
     "name": "stdout",
     "output_type": "stream",
     "text": [
      "320000/320000 [==============================] - 46s 144us/step\n",
      "()\n",
      "('ACCURACY:', 0.790759375)\n",
      "('LOSS:', 0.4469211479663849)\n",
      "CPU times: user 1min, sys: 2.85 s, total: 1min 3s\n",
      "Wall time: 46 s\n"
     ]
    }
   ],
   "source": [
    "%%time\n",
    "score = model.evaluate(x_test, y_test, batch_size=BATCH_SIZE)\n",
    "print()\n",
    "print(\"ACCURACY:\",score[1])\n",
    "print(\"LOSS:\",score[0])"
   ]
  },
  {
   "cell_type": "code",
   "execution_count": 44,
   "metadata": {
    "_uuid": "40c72cd1e9d6c4fd799cbba7c813765ac4039dfc"
   },
   "outputs": [
    {
     "data": {
      "image/png": "[encoded data removed]",
      "text/plain": [
       "<matplotlib.figure.Figure at 0x7fb62c6f3dd0>"
      ]
     },
     "metadata": {
      "needs_background": "light"
     },
     "output_type": "display_data"
    },
    {
     "data": {
      "image/png": "[encoded data removed]",
      "text/plain": [
       "<matplotlib.figure.Figure at 0x7fb62c6b0810>"
      ]
     },
     "metadata": {
      "needs_background": "light"
     },
     "output_type": "display_data"
    }
   ],
   "source": [
    "acc = history.history['acc']\n",
    "val_acc = history.history['val_acc']\n",
    "loss = history.history['loss']\n",
    "val_loss = history.history['val_loss']\n",
    " \n",
    "epochs = range(len(acc))\n",
    " \n",
    "plt.plot(epochs, acc, 'b', label='Training acc')\n",
    "plt.plot(epochs, val_acc, 'r', label='Validation acc')\n",
    "plt.title('Training and validation accuracy')\n",
    "plt.legend()\n",
    " \n",
    "plt.figure()\n",
    " \n",
    "plt.plot(epochs, loss, 'b', label='Training loss')\n",
    "plt.plot(epochs, val_loss, 'r', label='Validation loss')\n",
    "plt.title('Training and validation loss')\n",
    "plt.legend()\n",
    " \n",
    "plt.show()"
   ]
  },
  {
   "cell_type": "markdown",
   "metadata": {
    "_uuid": "6bdfc0f6a6af5bebc0271d83dd7432c91001409b"
   },
   "source": [
    "### Predict"
   ]
  },
  {
   "cell_type": "code",
   "execution_count": 45,
   "metadata": {
    "_uuid": "f0b0fa3d4b1bb14b3f5e3d169a369f3ebef29ae1"
   },
   "outputs": [],
   "source": [
    "def decode_sentiment(score, include_neutral=True):\n",
    "    if include_neutral:        \n",
    "        label = NEUTRAL\n",
    "        if score <= SENTIMENT_THRESHOLDS[0]:\n",
    "            label = NEGATIVE\n",
    "        elif score >= SENTIMENT_THRESHOLDS[1]:\n",
    "            label = POSITIVE\n",
    "\n",
    "        return label\n",
    "    else:\n",
    "        return NEGATIVE if score < 0.5 else POSITIVE"
   ]
  },
  {
   "cell_type": "code",
   "execution_count": 46,
   "metadata": {
    "_uuid": "ed4086d651f2f8cbed11d3c909a8873607d29a06"
   },
   "outputs": [],
   "source": [
    "def predict(text, include_neutral=True):\n",
    "    start_at = time.time()\n",
    "    # Tokenize text\n",
    "    x_test = pad_sequences(tokenizer.texts_to_sequences([text]), maxlen=SEQUENCE_LENGTH)\n",
    "    # Predict\n",
    "    score = model.predict([x_test])[0]\n",
    "    # Decode sentiment\n",
    "    label = decode_sentiment(score, include_neutral=include_neutral)\n",
    "\n",
    "    return {\"label\": label, \"score\": float(score),\n",
    "       \"elapsed_time\": time.time()-start_at}  "
   ]
  },
  {
   "cell_type": "code",
   "execution_count": 47,
   "metadata": {
    "_uuid": "ca38b1e6c9b5acfed7467de2cf02a78333108872"
   },
   "outputs": [
    {
     "data": {
      "text/plain": [
       "{'elapsed_time': 0.2817859649658203,\n",
       " 'label': 'POSITIVE',\n",
       " 'score': 0.9774266481399536}"
      ]
     },
     "execution_count": 47,
     "metadata": {},
     "output_type": "execute_result"
    }
   ],
   "source": [
    "predict(\"I love the music\")"
   ]
  },
  {
   "cell_type": "code",
   "execution_count": 48,
   "metadata": {
    "_uuid": "0e5fe647533be0148850de349fea6ef6f71303d1"
   },
   "outputs": [
    {
     "data": {
      "text/plain": [
       "{'elapsed_time': 0.0836789608001709,\n",
       " 'label': 'NEGATIVE',\n",
       " 'score': 0.008031508885324001}"
      ]
     },
     "execution_count": 48,
     "metadata": {},
     "output_type": "execute_result"
    }
   ],
   "source": [
    "predict(\"I hate the rain\")"
   ]
  },
  {
   "cell_type": "code",
   "execution_count": 49,
   "metadata": {
    "_uuid": "37064dffcc8920d34ccd54fac7c8b50e583a8269"
   },
   "outputs": [
    {
     "data": {
      "text/plain": [
       "{'elapsed_time': 0.0863790512084961,\n",
       " 'label': 'NEGATIVE',\n",
       " 'score': 0.3027966320514679}"
      ]
     },
     "execution_count": 49,
     "metadata": {},
     "output_type": "execute_result"
    }
   ],
   "source": [
    "predict(\"i don't know what i'm doing\")"
   ]
  },
  {
   "cell_type": "markdown",
   "metadata": {
    "_uuid": "3ee72e47f84b6dbc32e02a783de5ec1661f157e1"
   },
   "source": [
    "### Confusion Matrix"
   ]
  },
  {
   "cell_type": "code",
   "execution_count": 50,
   "metadata": {
    "_uuid": "0e920173eb05f04aecdd735bc5dff0f5be5f8d15"
   },
   "outputs": [
    {
     "name": "stdout",
     "output_type": "stream",
     "text": [
      "CPU times: user 58.7 s, sys: 2.48 s, total: 1min 1s\n",
      "Wall time: 45.4 s\n"
     ]
    }
   ],
   "source": [
    "%%time\n",
    "y_pred_1d = []\n",
    "y_test_1d = list(df_test.target)\n",
    "scores = model.predict(x_test, verbose=0, batch_size=1024)\n",
    "y_pred_1d = [decode_sentiment(score, include_neutral=False) for score in scores]"
   ]
  },
  {
   "cell_type": "code",
   "execution_count": 51,
   "metadata": {
    "_uuid": "b3575191bb425ab871f3f41e83812ee84bb7e595"
   },
   "outputs": [],
   "source": [
    "def plot_confusion_matrix(cm, classes,\n",
    "                          title='Confusion matrix',\n",
    "                          cmap=plt.cm.Blues):\n",
    "    \"\"\"\n",
    "    This function prints and plots the confusion matrix.\n",
    "    Normalization can be applied by setting `normalize=True`.\n",
    "    \"\"\"\n",
    "\n",
    "    cm = cm.astype('float') / cm.sum(axis=1)[:, np.newaxis]\n",
    "\n",
    "    plt.imshow(cm, interpolation='nearest', cmap=cmap)\n",
    "    plt.title(title, fontsize=30)\n",
    "    plt.colorbar()\n",
    "    tick_marks = np.arange(len(classes))\n",
    "    plt.xticks(tick_marks, classes, rotation=90, fontsize=22)\n",
    "    plt.yticks(tick_marks, classes, fontsize=22)\n",
    "\n",
    "    fmt = '.2f'\n",
    "    thresh = cm.max() / 2.\n",
    "    for i, j in itertools.product(range(cm.shape[0]), range(cm.shape[1])):\n",
    "        plt.text(j, i, format(cm[i, j], fmt),\n",
    "                 horizontalalignment=\"center\",\n",
    "                 color=\"white\" if cm[i, j] > thresh else \"black\")\n",
    "\n",
    "    plt.ylabel('True label', fontsize=25)\n",
    "    plt.xlabel('Predicted label', fontsize=25)"
   ]
  },
  {
   "cell_type": "code",
   "execution_count": 52,
   "metadata": {
    "_uuid": "a57dc6f6211c144491a70f533225edfa95a2dc66"
   },
   "outputs": [
    {
     "data": {
      "image/png": "[encoded data removed]",
      "text/plain": [
       "<matplotlib.figure.Figure at 0x7fb70730cd50>"
      ]
     },
     "metadata": {
      "needs_background": "light"
     },
     "output_type": "display_data"
    },
    {
     "name": "stdout",
     "output_type": "stream",
     "text": [
      "CPU times: user 637 ms, sys: 206 ms, total: 842 ms\n",
      "Wall time: 606 ms\n"
     ]
    }
   ],
   "source": [
    "%%time\n",
    "\n",
    "cnf_matrix = confusion_matrix(y_test_1d, y_pred_1d)\n",
    "plt.figure(figsize=(12,12))\n",
    "plot_confusion_matrix(cnf_matrix, classes=df_train.target.unique(), title=\"Confusion matrix\")\n",
    "plt.show()"
   ]
  },
  {
   "cell_type": "markdown",
   "metadata": {
    "_uuid": "e23b957348dcc084249d3cc7538b972da471c2cd"
   },
   "source": [
    "### Classification Report"
   ]
  },
  {
   "cell_type": "code",
   "execution_count": 53,
   "metadata": {
    "_uuid": "a7fe05b7caa1c984ff1deb0be2f7c6bc043df9f5"
   },
   "outputs": [
    {
     "name": "stdout",
     "output_type": "stream",
     "text": [
      "             precision    recall  f1-score   support\n",
      "\n",
      "   NEGATIVE       0.79      0.79      0.79    159494\n",
      "   POSITIVE       0.79      0.79      0.79    160506\n",
      "\n",
      "avg / total       0.79      0.79      0.79    320000\n",
      "\n"
     ]
    }
   ],
   "source": [
    "print(classification_report(y_test_1d, y_pred_1d))"
   ]
  },
  {
   "cell_type": "markdown",
   "metadata": {
    "_uuid": "4eb300f0c6693a618587c7dcf32f77f5416cbfb9"
   },
   "source": [
    "### Accuracy Score"
   ]
  },
  {
   "cell_type": "code",
   "execution_count": 54,
   "metadata": {
    "_uuid": "5cf76e6e09f8a60ed25947932b94c772eda44d23"
   },
   "outputs": [
    {
     "data": {
      "text/plain": [
       "0.790759375"
      ]
     },
     "execution_count": 54,
     "metadata": {},
     "output_type": "execute_result"
    }
   ],
   "source": [
    "accuracy_score(y_test_1d, y_pred_1d)"
   ]
  },
  {
   "cell_type": "markdown",
   "metadata": {
    "_uuid": "4f014c32f3833db282e1a075c526604f34e3158c"
   },
   "source": [
    "### Save model"
   ]
  },
  {
   "cell_type": "code",
   "execution_count": 55,
   "metadata": {
    "_uuid": "3b2b3ad5b592977b404acfa1c9ad303a62837255"
   },
   "outputs": [
    {
     "name": "stderr",
     "output_type": "stream",
     "text": [
      "2019-03-12 19:06:23,150 : INFO : saving Word2Vec object under model.w2v, separately None\n",
      "2019-03-12 19:06:23,153 : INFO : not storing attribute vectors_norm\n",
      "2019-03-12 19:06:23,156 : INFO : not storing attribute cum_table\n",
      "2019-03-12 19:06:23,501 : INFO : saved model.w2v\n"
     ]
    }
   ],
   "source": [
    "model.save(KERAS_MODEL)\n",
    "w2v_model.save(WORD2VEC_MODEL)\n",
    "pickle.dump(tokenizer, open(TOKENIZER_MODEL, \"wb\"), protocol=0)\n",
    "pickle.dump(encoder, open(ENCODER_MODEL, \"wb\"), protocol=0)"
   ]
  },
  {
   "cell_type": "code",
   "execution_count": 1,
   "metadata": {
    "_uuid": "cc363c54782894757f5ea8820c6a170f2e16ef93"
   },
   "outputs": [
    {
     "ename": "NameError",
     "evalue": "name 'predict' is not defined",
     "output_type": "error",
     "traceback": [
      "\u001b[0;31m\u001b[0m",
      "\u001b[0;31mNameError\u001b[0mTraceback (most recent call last)",
      "\u001b[0;32m<ipython-input-1-c7dc10284b6b>\u001b[0m in \u001b[0;36m<module>\u001b[0;34m()\u001b[0m\n\u001b[0;32m----> 1\u001b[0;31m \u001b[0mpredict\u001b[0m\u001b[0;34m(\u001b[0m\u001b[0;34m'i love the music'\u001b[0m\u001b[0;34m)\u001b[0m\u001b[0;34m\u001b[0m\u001b[0m\n\u001b[0m",
      "\u001b[0;31mNameError\u001b[0m: name 'predict' is not defined"
     ]
    }
   ],
   "source": []
  },
  {
   "cell_type": "code",
   "execution_count": null,
   "metadata": {},
   "outputs": [],
   "source": []
  },
  {
   "cell_type": "code",
   "execution_count": null,
   "metadata": {},
   "outputs": [],
   "source": []
  },
  {
   "cell_type": "code",
   "execution_count": null,
   "metadata": {},
   "outputs": [],
   "source": []
  }
 ],
 "metadata": {
  "kernelspec": {
   "display_name": "Python 2",
   "language": "python",
   "name": "python2"
  },
  "language_info": {
   "codemirror_mode": {
    "name": "ipython",
    "version": 2
   },
   "file_extension": ".py",
   "mimetype": "text/x-python",
   "name": "python",
   "nbconvert_exporter": "python",
   "pygments_lexer": "ipython2",
   "version": "2.7.15"
  }
 },
 "nbformat": 4,
 "nbformat_minor": 1
}
